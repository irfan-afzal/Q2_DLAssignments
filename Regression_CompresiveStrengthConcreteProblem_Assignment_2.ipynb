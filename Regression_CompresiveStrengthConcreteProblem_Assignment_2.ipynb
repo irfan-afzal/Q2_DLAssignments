{
  "nbformat": 4,
  "nbformat_minor": 0,
  "metadata": {
    "colab": {
      "name": "Regression_CompresiveStrengthConcreteProblem_Assignment_2.ipynb",
      "provenance": [],
      "collapsed_sections": []
    },
    "kernelspec": {
      "name": "python3",
      "display_name": "Python 3"
    },
    "language_info": {
      "name": "python"
    }
  },
  "cells": [
    {
      "cell_type": "markdown",
      "metadata": {
        "id": "lZvYJtAGmRmh"
      },
      "source": [
        "# **Assignment: Compresive Strength Concrete Problem**\n",
        "## **Abstract:**\n",
        "Concrete is the most important material in civil engineering. The concrete compressive strength (concrete strength to bear the load) is a highly nonlinear function of age and ingredients.\n",
        "\n",
        "\n",
        "Data Set Characteristics:  \n",
        "\n",
        "Multivariate\n",
        "\n",
        "Number of Instances:\n",
        "\n",
        "1030\n",
        "\n",
        "Area:\n",
        "\n",
        "Physical\n",
        "\n",
        "Attribute Characteristics:\n",
        "\n",
        "Real\n",
        "\n",
        "Number of Attributes:\n",
        "\n",
        "9\n",
        "\n",
        "Date Donated\n",
        "\n",
        "2007-08-03\n",
        "\n",
        "Associated Tasks:\n",
        "\n",
        "Regression\n",
        "\n",
        "Missing Values?\n",
        "\n",
        "N/A\n",
        "\n",
        "Number of Web Hits:\n",
        "\n",
        "231464\n",
        "\n",
        "## **Description:**\n",
        "###**Features Name  Data Type  Measurement  Description**\n",
        "Cement (component 1) | quantitative | kg in a m3 mixture | Input Variable Blast Furnace Slag (component 2) | quantitative | kg in a m3 mixture | Input Variable Fly Ash (component 3) | quantitative | kg in a m3 mixture | Input Variable Water (component 4) | quantitative | kg in a m3 mixture | Input Variable Superplasticizer (component 5) | quantitative | kg in a m3 mixture | Input Variable Coarse Aggregate (component 6) | quantitative | kg in a m3 mixture | Input Variable Fine Aggregate (component 7) | quantitative | kg in a m3 mixture | Input Variable Age | quantitative | Day (1~365) | Input Variable Concrete compressive strength | quantitative | MPa | Output Variable\n",
        "\n",
        "## **WORKFLOW :**\n",
        "Load Data\n",
        "Check Missing Values ( If Exist ; Fill each record with mean of its feature )\n",
        "Standardized the Input Variables. Hint: Centeralized the data\n",
        "Split into 50% Training(Samples,Labels) , 30% Test(Samples,Labels) and 20% Validation Data(Samples,Labels).\n",
        "Model : input Layer (No. of features ), 3 hidden layers including 10,8,6 unit & Output Layer with activation function relu/tanh (check by experiment).\n",
        "Compilation Step (Note : Its a Regression problem , select loss , metrics according to it)\n",
        "Train the Model with Epochs (100) and validate it\n",
        "If the model gets overfit tune your model by changing the units , No. of layers , activation function , epochs , add dropout layer or add Regularizer according to the need .\n",
        "Evaluation Step\n",
        "Prediction\n",
        "## **Load Data:**\n",
        "[Click Here to Download DataSet](https://github.com/ramsha275/ML_Datasets/blob/main/compresive_strength_concrete.csv)"
      ]
    },
    {
      "cell_type": "code",
      "metadata": {
        "id": "ANaF9HYgiFr5"
      },
      "source": [
        "import pathlib as pl\n",
        "import numpy as np\n",
        "import pandas as pd\n",
        "import tensorflow as tf\n",
        "import matplotlib.pyplot as plt\n",
        "from tensorflow.keras.models import Sequential\n",
        "from tensorflow.keras.layers import Dense \n",
        "from tensorflow.keras.optimizers import Adam, SGD\n",
        "from keras import models\n",
        "from keras import layers"
      ],
      "execution_count": 2,
      "outputs": []
    },
    {
      "cell_type": "markdown",
      "metadata": {
        "id": "mSM3U10ZtJ-N"
      },
      "source": [
        "## **1.Load Data**"
      ]
    },
    {
      "cell_type": "code",
      "metadata": {
        "id": "k4wr6N8InkpT"
      },
      "source": [
        "path = pl.Path(\"/content/drive/MyDrive/AI/DLAssignment/Compresive_Strength_Concrete_Problem/compresive_strength_concrete.csv\")\n",
        "data = pd.read_csv(path)"
      ],
      "execution_count": 12,
      "outputs": []
    },
    {
      "cell_type": "code",
      "metadata": {
        "colab": {
          "base_uri": "https://localhost:8080/",
          "height": 255
        },
        "id": "Hh-B4XBdnrAq",
        "outputId": "39ec52f6-bb0a-4797-afd2-8251156f50f6"
      },
      "source": [
        "data.head()"
      ],
      "execution_count": 13,
      "outputs": [
        {
          "output_type": "execute_result",
          "data": {
            "text/html": [
              "<div>\n",
              "<style scoped>\n",
              "    .dataframe tbody tr th:only-of-type {\n",
              "        vertical-align: middle;\n",
              "    }\n",
              "\n",
              "    .dataframe tbody tr th {\n",
              "        vertical-align: top;\n",
              "    }\n",
              "\n",
              "    .dataframe thead th {\n",
              "        text-align: right;\n",
              "    }\n",
              "</style>\n",
              "<table border=\"1\" class=\"dataframe\">\n",
              "  <thead>\n",
              "    <tr style=\"text-align: right;\">\n",
              "      <th></th>\n",
              "      <th>Cement (component 1)(kg in a m^3 mixture)</th>\n",
              "      <th>Blast Furnace Slag (component 2)(kg in a m^3 mixture)</th>\n",
              "      <th>Fly Ash (component 3)(kg in a m^3 mixture)</th>\n",
              "      <th>Water  (component 4)(kg in a m^3 mixture)</th>\n",
              "      <th>Superplasticizer (component 5)(kg in a m^3 mixture)</th>\n",
              "      <th>Coarse Aggregate  (component 6)(kg in a m^3 mixture)</th>\n",
              "      <th>Fine Aggregate (component 7)(kg in a m^3 mixture)</th>\n",
              "      <th>Age (day)</th>\n",
              "      <th>Concrete compressive strength(MPa, megapascals)</th>\n",
              "    </tr>\n",
              "  </thead>\n",
              "  <tbody>\n",
              "    <tr>\n",
              "      <th>0</th>\n",
              "      <td>540.0</td>\n",
              "      <td>0.0</td>\n",
              "      <td>0.0</td>\n",
              "      <td>162.0</td>\n",
              "      <td>2.5</td>\n",
              "      <td>1040.0</td>\n",
              "      <td>676.0</td>\n",
              "      <td>28</td>\n",
              "      <td>79.99</td>\n",
              "    </tr>\n",
              "    <tr>\n",
              "      <th>1</th>\n",
              "      <td>540.0</td>\n",
              "      <td>0.0</td>\n",
              "      <td>0.0</td>\n",
              "      <td>162.0</td>\n",
              "      <td>2.5</td>\n",
              "      <td>1055.0</td>\n",
              "      <td>676.0</td>\n",
              "      <td>28</td>\n",
              "      <td>61.89</td>\n",
              "    </tr>\n",
              "    <tr>\n",
              "      <th>2</th>\n",
              "      <td>332.5</td>\n",
              "      <td>142.5</td>\n",
              "      <td>0.0</td>\n",
              "      <td>228.0</td>\n",
              "      <td>0.0</td>\n",
              "      <td>932.0</td>\n",
              "      <td>594.0</td>\n",
              "      <td>270</td>\n",
              "      <td>40.27</td>\n",
              "    </tr>\n",
              "    <tr>\n",
              "      <th>3</th>\n",
              "      <td>332.5</td>\n",
              "      <td>142.5</td>\n",
              "      <td>0.0</td>\n",
              "      <td>228.0</td>\n",
              "      <td>0.0</td>\n",
              "      <td>932.0</td>\n",
              "      <td>594.0</td>\n",
              "      <td>365</td>\n",
              "      <td>41.05</td>\n",
              "    </tr>\n",
              "    <tr>\n",
              "      <th>4</th>\n",
              "      <td>198.6</td>\n",
              "      <td>132.4</td>\n",
              "      <td>0.0</td>\n",
              "      <td>192.0</td>\n",
              "      <td>0.0</td>\n",
              "      <td>978.4</td>\n",
              "      <td>825.5</td>\n",
              "      <td>360</td>\n",
              "      <td>44.30</td>\n",
              "    </tr>\n",
              "  </tbody>\n",
              "</table>\n",
              "</div>"
            ],
            "text/plain": [
              "   Cement (component 1)(kg in a m^3 mixture)  ...  Concrete compressive strength(MPa, megapascals) \n",
              "0                                      540.0  ...                                             79.99\n",
              "1                                      540.0  ...                                             61.89\n",
              "2                                      332.5  ...                                             40.27\n",
              "3                                      332.5  ...                                             41.05\n",
              "4                                      198.6  ...                                             44.30\n",
              "\n",
              "[5 rows x 9 columns]"
            ]
          },
          "metadata": {
            "tags": []
          },
          "execution_count": 13
        }
      ]
    },
    {
      "cell_type": "code",
      "metadata": {
        "colab": {
          "base_uri": "https://localhost:8080/"
        },
        "id": "pZ1uHKSSn1qI",
        "outputId": "436fd875-b57a-4c04-bbae-fddd475b773f"
      },
      "source": [
        "print(data.shape)"
      ],
      "execution_count": 14,
      "outputs": [
        {
          "output_type": "stream",
          "text": [
            "(1030, 9)\n"
          ],
          "name": "stdout"
        }
      ]
    },
    {
      "cell_type": "code",
      "metadata": {
        "colab": {
          "base_uri": "https://localhost:8080/"
        },
        "id": "NspO9n8DuFRX",
        "outputId": "65a2a6dc-465e-4723-bc6b-3d669342b0e7"
      },
      "source": [
        "print(data.columns)"
      ],
      "execution_count": 15,
      "outputs": [
        {
          "output_type": "stream",
          "text": [
            "Index(['Cement (component 1)(kg in a m^3 mixture)',\n",
            "       'Blast Furnace Slag (component 2)(kg in a m^3 mixture)',\n",
            "       'Fly Ash (component 3)(kg in a m^3 mixture)',\n",
            "       'Water  (component 4)(kg in a m^3 mixture)',\n",
            "       'Superplasticizer (component 5)(kg in a m^3 mixture)',\n",
            "       'Coarse Aggregate  (component 6)(kg in a m^3 mixture)',\n",
            "       'Fine Aggregate (component 7)(kg in a m^3 mixture)', 'Age (day)',\n",
            "       'Concrete compressive strength(MPa, megapascals) '],\n",
            "      dtype='object')\n"
          ],
          "name": "stdout"
        }
      ]
    },
    {
      "cell_type": "markdown",
      "metadata": {
        "id": "G1fx7NUbugRM"
      },
      "source": [
        "## **2.Check Missing Values**"
      ]
    },
    {
      "cell_type": "code",
      "metadata": {
        "colab": {
          "base_uri": "https://localhost:8080/"
        },
        "id": "bcDp5TTPuT_E",
        "outputId": "17357f2c-6635-4e83-882c-da12b8e97652"
      },
      "source": [
        "data.isnull().sum()"
      ],
      "execution_count": 16,
      "outputs": [
        {
          "output_type": "execute_result",
          "data": {
            "text/plain": [
              "Cement (component 1)(kg in a m^3 mixture)                0\n",
              "Blast Furnace Slag (component 2)(kg in a m^3 mixture)    0\n",
              "Fly Ash (component 3)(kg in a m^3 mixture)               0\n",
              "Water  (component 4)(kg in a m^3 mixture)                0\n",
              "Superplasticizer (component 5)(kg in a m^3 mixture)      0\n",
              "Coarse Aggregate  (component 6)(kg in a m^3 mixture)     0\n",
              "Fine Aggregate (component 7)(kg in a m^3 mixture)        0\n",
              "Age (day)                                                0\n",
              "Concrete compressive strength(MPa, megapascals)          0\n",
              "dtype: int64"
            ]
          },
          "metadata": {
            "tags": []
          },
          "execution_count": 16
        }
      ]
    },
    {
      "cell_type": "code",
      "metadata": {
        "colab": {
          "base_uri": "https://localhost:8080/",
          "height": 470
        },
        "id": "HO6wqHsjuw-P",
        "outputId": "01304b7e-5c50-4032-90cd-8789f044e981"
      },
      "source": [
        "data.isnull()"
      ],
      "execution_count": 17,
      "outputs": [
        {
          "output_type": "execute_result",
          "data": {
            "text/html": [
              "<div>\n",
              "<style scoped>\n",
              "    .dataframe tbody tr th:only-of-type {\n",
              "        vertical-align: middle;\n",
              "    }\n",
              "\n",
              "    .dataframe tbody tr th {\n",
              "        vertical-align: top;\n",
              "    }\n",
              "\n",
              "    .dataframe thead th {\n",
              "        text-align: right;\n",
              "    }\n",
              "</style>\n",
              "<table border=\"1\" class=\"dataframe\">\n",
              "  <thead>\n",
              "    <tr style=\"text-align: right;\">\n",
              "      <th></th>\n",
              "      <th>Cement (component 1)(kg in a m^3 mixture)</th>\n",
              "      <th>Blast Furnace Slag (component 2)(kg in a m^3 mixture)</th>\n",
              "      <th>Fly Ash (component 3)(kg in a m^3 mixture)</th>\n",
              "      <th>Water  (component 4)(kg in a m^3 mixture)</th>\n",
              "      <th>Superplasticizer (component 5)(kg in a m^3 mixture)</th>\n",
              "      <th>Coarse Aggregate  (component 6)(kg in a m^3 mixture)</th>\n",
              "      <th>Fine Aggregate (component 7)(kg in a m^3 mixture)</th>\n",
              "      <th>Age (day)</th>\n",
              "      <th>Concrete compressive strength(MPa, megapascals)</th>\n",
              "    </tr>\n",
              "  </thead>\n",
              "  <tbody>\n",
              "    <tr>\n",
              "      <th>0</th>\n",
              "      <td>False</td>\n",
              "      <td>False</td>\n",
              "      <td>False</td>\n",
              "      <td>False</td>\n",
              "      <td>False</td>\n",
              "      <td>False</td>\n",
              "      <td>False</td>\n",
              "      <td>False</td>\n",
              "      <td>False</td>\n",
              "    </tr>\n",
              "    <tr>\n",
              "      <th>1</th>\n",
              "      <td>False</td>\n",
              "      <td>False</td>\n",
              "      <td>False</td>\n",
              "      <td>False</td>\n",
              "      <td>False</td>\n",
              "      <td>False</td>\n",
              "      <td>False</td>\n",
              "      <td>False</td>\n",
              "      <td>False</td>\n",
              "    </tr>\n",
              "    <tr>\n",
              "      <th>2</th>\n",
              "      <td>False</td>\n",
              "      <td>False</td>\n",
              "      <td>False</td>\n",
              "      <td>False</td>\n",
              "      <td>False</td>\n",
              "      <td>False</td>\n",
              "      <td>False</td>\n",
              "      <td>False</td>\n",
              "      <td>False</td>\n",
              "    </tr>\n",
              "    <tr>\n",
              "      <th>3</th>\n",
              "      <td>False</td>\n",
              "      <td>False</td>\n",
              "      <td>False</td>\n",
              "      <td>False</td>\n",
              "      <td>False</td>\n",
              "      <td>False</td>\n",
              "      <td>False</td>\n",
              "      <td>False</td>\n",
              "      <td>False</td>\n",
              "    </tr>\n",
              "    <tr>\n",
              "      <th>4</th>\n",
              "      <td>False</td>\n",
              "      <td>False</td>\n",
              "      <td>False</td>\n",
              "      <td>False</td>\n",
              "      <td>False</td>\n",
              "      <td>False</td>\n",
              "      <td>False</td>\n",
              "      <td>False</td>\n",
              "      <td>False</td>\n",
              "    </tr>\n",
              "    <tr>\n",
              "      <th>...</th>\n",
              "      <td>...</td>\n",
              "      <td>...</td>\n",
              "      <td>...</td>\n",
              "      <td>...</td>\n",
              "      <td>...</td>\n",
              "      <td>...</td>\n",
              "      <td>...</td>\n",
              "      <td>...</td>\n",
              "      <td>...</td>\n",
              "    </tr>\n",
              "    <tr>\n",
              "      <th>1025</th>\n",
              "      <td>False</td>\n",
              "      <td>False</td>\n",
              "      <td>False</td>\n",
              "      <td>False</td>\n",
              "      <td>False</td>\n",
              "      <td>False</td>\n",
              "      <td>False</td>\n",
              "      <td>False</td>\n",
              "      <td>False</td>\n",
              "    </tr>\n",
              "    <tr>\n",
              "      <th>1026</th>\n",
              "      <td>False</td>\n",
              "      <td>False</td>\n",
              "      <td>False</td>\n",
              "      <td>False</td>\n",
              "      <td>False</td>\n",
              "      <td>False</td>\n",
              "      <td>False</td>\n",
              "      <td>False</td>\n",
              "      <td>False</td>\n",
              "    </tr>\n",
              "    <tr>\n",
              "      <th>1027</th>\n",
              "      <td>False</td>\n",
              "      <td>False</td>\n",
              "      <td>False</td>\n",
              "      <td>False</td>\n",
              "      <td>False</td>\n",
              "      <td>False</td>\n",
              "      <td>False</td>\n",
              "      <td>False</td>\n",
              "      <td>False</td>\n",
              "    </tr>\n",
              "    <tr>\n",
              "      <th>1028</th>\n",
              "      <td>False</td>\n",
              "      <td>False</td>\n",
              "      <td>False</td>\n",
              "      <td>False</td>\n",
              "      <td>False</td>\n",
              "      <td>False</td>\n",
              "      <td>False</td>\n",
              "      <td>False</td>\n",
              "      <td>False</td>\n",
              "    </tr>\n",
              "    <tr>\n",
              "      <th>1029</th>\n",
              "      <td>False</td>\n",
              "      <td>False</td>\n",
              "      <td>False</td>\n",
              "      <td>False</td>\n",
              "      <td>False</td>\n",
              "      <td>False</td>\n",
              "      <td>False</td>\n",
              "      <td>False</td>\n",
              "      <td>False</td>\n",
              "    </tr>\n",
              "  </tbody>\n",
              "</table>\n",
              "<p>1030 rows × 9 columns</p>\n",
              "</div>"
            ],
            "text/plain": [
              "      Cement (component 1)(kg in a m^3 mixture)  ...  Concrete compressive strength(MPa, megapascals) \n",
              "0                                         False  ...                                             False\n",
              "1                                         False  ...                                             False\n",
              "2                                         False  ...                                             False\n",
              "3                                         False  ...                                             False\n",
              "4                                         False  ...                                             False\n",
              "...                                         ...  ...                                               ...\n",
              "1025                                      False  ...                                             False\n",
              "1026                                      False  ...                                             False\n",
              "1027                                      False  ...                                             False\n",
              "1028                                      False  ...                                             False\n",
              "1029                                      False  ...                                             False\n",
              "\n",
              "[1030 rows x 9 columns]"
            ]
          },
          "metadata": {
            "tags": []
          },
          "execution_count": 17
        }
      ]
    },
    {
      "cell_type": "code",
      "metadata": {
        "colab": {
          "base_uri": "https://localhost:8080/"
        },
        "id": "sU8zlwapu1lk",
        "outputId": "bc36f716-3ca5-4151-e2d1-52776cdf00e4"
      },
      "source": [
        "data.info()"
      ],
      "execution_count": 18,
      "outputs": [
        {
          "output_type": "stream",
          "text": [
            "<class 'pandas.core.frame.DataFrame'>\n",
            "RangeIndex: 1030 entries, 0 to 1029\n",
            "Data columns (total 9 columns):\n",
            " #   Column                                                 Non-Null Count  Dtype  \n",
            "---  ------                                                 --------------  -----  \n",
            " 0   Cement (component 1)(kg in a m^3 mixture)              1030 non-null   float64\n",
            " 1   Blast Furnace Slag (component 2)(kg in a m^3 mixture)  1030 non-null   float64\n",
            " 2   Fly Ash (component 3)(kg in a m^3 mixture)             1030 non-null   float64\n",
            " 3   Water  (component 4)(kg in a m^3 mixture)              1030 non-null   float64\n",
            " 4   Superplasticizer (component 5)(kg in a m^3 mixture)    1030 non-null   float64\n",
            " 5   Coarse Aggregate  (component 6)(kg in a m^3 mixture)   1030 non-null   float64\n",
            " 6   Fine Aggregate (component 7)(kg in a m^3 mixture)      1030 non-null   float64\n",
            " 7   Age (day)                                              1030 non-null   int64  \n",
            " 8   Concrete compressive strength(MPa, megapascals)        1030 non-null   float64\n",
            "dtypes: float64(8), int64(1)\n",
            "memory usage: 72.5 KB\n"
          ],
          "name": "stdout"
        }
      ]
    },
    {
      "cell_type": "code",
      "metadata": {
        "colab": {
          "base_uri": "https://localhost:8080/",
          "height": 348
        },
        "id": "3cLpLF7vFF-c",
        "outputId": "2a1de934-e8d0-422e-b383-699a81ce2069"
      },
      "source": [
        "data.describe()"
      ],
      "execution_count": 19,
      "outputs": [
        {
          "output_type": "execute_result",
          "data": {
            "text/html": [
              "<div>\n",
              "<style scoped>\n",
              "    .dataframe tbody tr th:only-of-type {\n",
              "        vertical-align: middle;\n",
              "    }\n",
              "\n",
              "    .dataframe tbody tr th {\n",
              "        vertical-align: top;\n",
              "    }\n",
              "\n",
              "    .dataframe thead th {\n",
              "        text-align: right;\n",
              "    }\n",
              "</style>\n",
              "<table border=\"1\" class=\"dataframe\">\n",
              "  <thead>\n",
              "    <tr style=\"text-align: right;\">\n",
              "      <th></th>\n",
              "      <th>Cement (component 1)(kg in a m^3 mixture)</th>\n",
              "      <th>Blast Furnace Slag (component 2)(kg in a m^3 mixture)</th>\n",
              "      <th>Fly Ash (component 3)(kg in a m^3 mixture)</th>\n",
              "      <th>Water  (component 4)(kg in a m^3 mixture)</th>\n",
              "      <th>Superplasticizer (component 5)(kg in a m^3 mixture)</th>\n",
              "      <th>Coarse Aggregate  (component 6)(kg in a m^3 mixture)</th>\n",
              "      <th>Fine Aggregate (component 7)(kg in a m^3 mixture)</th>\n",
              "      <th>Age (day)</th>\n",
              "      <th>Concrete compressive strength(MPa, megapascals)</th>\n",
              "    </tr>\n",
              "  </thead>\n",
              "  <tbody>\n",
              "    <tr>\n",
              "      <th>count</th>\n",
              "      <td>1030.000000</td>\n",
              "      <td>1030.000000</td>\n",
              "      <td>1030.000000</td>\n",
              "      <td>1030.000000</td>\n",
              "      <td>1030.000000</td>\n",
              "      <td>1030.000000</td>\n",
              "      <td>1030.000000</td>\n",
              "      <td>1030.000000</td>\n",
              "      <td>1030.000000</td>\n",
              "    </tr>\n",
              "    <tr>\n",
              "      <th>mean</th>\n",
              "      <td>281.167864</td>\n",
              "      <td>73.895825</td>\n",
              "      <td>54.188350</td>\n",
              "      <td>181.567282</td>\n",
              "      <td>6.204660</td>\n",
              "      <td>972.918932</td>\n",
              "      <td>773.580485</td>\n",
              "      <td>45.662136</td>\n",
              "      <td>35.817961</td>\n",
              "    </tr>\n",
              "    <tr>\n",
              "      <th>std</th>\n",
              "      <td>104.506364</td>\n",
              "      <td>86.279342</td>\n",
              "      <td>63.997004</td>\n",
              "      <td>21.354219</td>\n",
              "      <td>5.973841</td>\n",
              "      <td>77.753954</td>\n",
              "      <td>80.175980</td>\n",
              "      <td>63.169912</td>\n",
              "      <td>16.705742</td>\n",
              "    </tr>\n",
              "    <tr>\n",
              "      <th>min</th>\n",
              "      <td>102.000000</td>\n",
              "      <td>0.000000</td>\n",
              "      <td>0.000000</td>\n",
              "      <td>121.800000</td>\n",
              "      <td>0.000000</td>\n",
              "      <td>801.000000</td>\n",
              "      <td>594.000000</td>\n",
              "      <td>1.000000</td>\n",
              "      <td>2.330000</td>\n",
              "    </tr>\n",
              "    <tr>\n",
              "      <th>25%</th>\n",
              "      <td>192.375000</td>\n",
              "      <td>0.000000</td>\n",
              "      <td>0.000000</td>\n",
              "      <td>164.900000</td>\n",
              "      <td>0.000000</td>\n",
              "      <td>932.000000</td>\n",
              "      <td>730.950000</td>\n",
              "      <td>7.000000</td>\n",
              "      <td>23.710000</td>\n",
              "    </tr>\n",
              "    <tr>\n",
              "      <th>50%</th>\n",
              "      <td>272.900000</td>\n",
              "      <td>22.000000</td>\n",
              "      <td>0.000000</td>\n",
              "      <td>185.000000</td>\n",
              "      <td>6.400000</td>\n",
              "      <td>968.000000</td>\n",
              "      <td>779.500000</td>\n",
              "      <td>28.000000</td>\n",
              "      <td>34.445000</td>\n",
              "    </tr>\n",
              "    <tr>\n",
              "      <th>75%</th>\n",
              "      <td>350.000000</td>\n",
              "      <td>142.950000</td>\n",
              "      <td>118.300000</td>\n",
              "      <td>192.000000</td>\n",
              "      <td>10.200000</td>\n",
              "      <td>1029.400000</td>\n",
              "      <td>824.000000</td>\n",
              "      <td>56.000000</td>\n",
              "      <td>46.135000</td>\n",
              "    </tr>\n",
              "    <tr>\n",
              "      <th>max</th>\n",
              "      <td>540.000000</td>\n",
              "      <td>359.400000</td>\n",
              "      <td>200.100000</td>\n",
              "      <td>247.000000</td>\n",
              "      <td>32.200000</td>\n",
              "      <td>1145.000000</td>\n",
              "      <td>992.600000</td>\n",
              "      <td>365.000000</td>\n",
              "      <td>82.600000</td>\n",
              "    </tr>\n",
              "  </tbody>\n",
              "</table>\n",
              "</div>"
            ],
            "text/plain": [
              "       Cement (component 1)(kg in a m^3 mixture)  ...  Concrete compressive strength(MPa, megapascals) \n",
              "count                                1030.000000  ...                                       1030.000000\n",
              "mean                                  281.167864  ...                                         35.817961\n",
              "std                                   104.506364  ...                                         16.705742\n",
              "min                                   102.000000  ...                                          2.330000\n",
              "25%                                   192.375000  ...                                         23.710000\n",
              "50%                                   272.900000  ...                                         34.445000\n",
              "75%                                   350.000000  ...                                         46.135000\n",
              "max                                   540.000000  ...                                         82.600000\n",
              "\n",
              "[8 rows x 9 columns]"
            ]
          },
          "metadata": {
            "tags": []
          },
          "execution_count": 19
        }
      ]
    },
    {
      "cell_type": "markdown",
      "metadata": {
        "id": "cCVRPVwgljXy"
      },
      "source": [
        "## **3. Standardized the Input Variables**"
      ]
    },
    {
      "cell_type": "code",
      "metadata": {
        "id": "THY0YcwdTcmq"
      },
      "source": [
        "#A widespread best practice to deal with such data is to do feature-wise normalization\n",
        "min = data.min(axis=0)\n",
        "max = data.max(axis=0)\n",
        "data -= min\n",
        "data /= (max - min)\n",
        "\n",
        "# (x - min) / (max - min)"
      ],
      "execution_count": 20,
      "outputs": []
    },
    {
      "cell_type": "code",
      "metadata": {
        "colab": {
          "base_uri": "https://localhost:8080/",
          "height": 255
        },
        "id": "E3HrDfI_Tta5",
        "outputId": "090a8e32-f5c9-4a45-f731-acd6ff90fc8b"
      },
      "source": [
        "data.head()"
      ],
      "execution_count": 21,
      "outputs": [
        {
          "output_type": "execute_result",
          "data": {
            "text/html": [
              "<div>\n",
              "<style scoped>\n",
              "    .dataframe tbody tr th:only-of-type {\n",
              "        vertical-align: middle;\n",
              "    }\n",
              "\n",
              "    .dataframe tbody tr th {\n",
              "        vertical-align: top;\n",
              "    }\n",
              "\n",
              "    .dataframe thead th {\n",
              "        text-align: right;\n",
              "    }\n",
              "</style>\n",
              "<table border=\"1\" class=\"dataframe\">\n",
              "  <thead>\n",
              "    <tr style=\"text-align: right;\">\n",
              "      <th></th>\n",
              "      <th>Cement (component 1)(kg in a m^3 mixture)</th>\n",
              "      <th>Blast Furnace Slag (component 2)(kg in a m^3 mixture)</th>\n",
              "      <th>Fly Ash (component 3)(kg in a m^3 mixture)</th>\n",
              "      <th>Water  (component 4)(kg in a m^3 mixture)</th>\n",
              "      <th>Superplasticizer (component 5)(kg in a m^3 mixture)</th>\n",
              "      <th>Coarse Aggregate  (component 6)(kg in a m^3 mixture)</th>\n",
              "      <th>Fine Aggregate (component 7)(kg in a m^3 mixture)</th>\n",
              "      <th>Age (day)</th>\n",
              "      <th>Concrete compressive strength(MPa, megapascals)</th>\n",
              "    </tr>\n",
              "  </thead>\n",
              "  <tbody>\n",
              "    <tr>\n",
              "      <th>0</th>\n",
              "      <td>1.000000</td>\n",
              "      <td>0.000000</td>\n",
              "      <td>0.0</td>\n",
              "      <td>0.321086</td>\n",
              "      <td>0.07764</td>\n",
              "      <td>0.694767</td>\n",
              "      <td>0.205720</td>\n",
              "      <td>0.074176</td>\n",
              "      <td>0.967485</td>\n",
              "    </tr>\n",
              "    <tr>\n",
              "      <th>1</th>\n",
              "      <td>1.000000</td>\n",
              "      <td>0.000000</td>\n",
              "      <td>0.0</td>\n",
              "      <td>0.321086</td>\n",
              "      <td>0.07764</td>\n",
              "      <td>0.738372</td>\n",
              "      <td>0.205720</td>\n",
              "      <td>0.074176</td>\n",
              "      <td>0.741996</td>\n",
              "    </tr>\n",
              "    <tr>\n",
              "      <th>2</th>\n",
              "      <td>0.526256</td>\n",
              "      <td>0.396494</td>\n",
              "      <td>0.0</td>\n",
              "      <td>0.848243</td>\n",
              "      <td>0.00000</td>\n",
              "      <td>0.380814</td>\n",
              "      <td>0.000000</td>\n",
              "      <td>0.739011</td>\n",
              "      <td>0.472655</td>\n",
              "    </tr>\n",
              "    <tr>\n",
              "      <th>3</th>\n",
              "      <td>0.526256</td>\n",
              "      <td>0.396494</td>\n",
              "      <td>0.0</td>\n",
              "      <td>0.848243</td>\n",
              "      <td>0.00000</td>\n",
              "      <td>0.380814</td>\n",
              "      <td>0.000000</td>\n",
              "      <td>1.000000</td>\n",
              "      <td>0.482372</td>\n",
              "    </tr>\n",
              "    <tr>\n",
              "      <th>4</th>\n",
              "      <td>0.220548</td>\n",
              "      <td>0.368392</td>\n",
              "      <td>0.0</td>\n",
              "      <td>0.560703</td>\n",
              "      <td>0.00000</td>\n",
              "      <td>0.515698</td>\n",
              "      <td>0.580783</td>\n",
              "      <td>0.986264</td>\n",
              "      <td>0.522860</td>\n",
              "    </tr>\n",
              "  </tbody>\n",
              "</table>\n",
              "</div>"
            ],
            "text/plain": [
              "   Cement (component 1)(kg in a m^3 mixture)  ...  Concrete compressive strength(MPa, megapascals) \n",
              "0                                   1.000000  ...                                          0.967485\n",
              "1                                   1.000000  ...                                          0.741996\n",
              "2                                   0.526256  ...                                          0.472655\n",
              "3                                   0.526256  ...                                          0.482372\n",
              "4                                   0.220548  ...                                          0.522860\n",
              "\n",
              "[5 rows x 9 columns]"
            ]
          },
          "metadata": {
            "tags": []
          },
          "execution_count": 21
        }
      ]
    },
    {
      "cell_type": "code",
      "metadata": {
        "colab": {
          "base_uri": "https://localhost:8080/",
          "height": 348
        },
        "id": "ZhHC_UTSSLP2",
        "outputId": "d5154599-e37e-4ee3-efa5-cf6bc65b6cee"
      },
      "source": [
        "data.describe()"
      ],
      "execution_count": 22,
      "outputs": [
        {
          "output_type": "execute_result",
          "data": {
            "text/html": [
              "<div>\n",
              "<style scoped>\n",
              "    .dataframe tbody tr th:only-of-type {\n",
              "        vertical-align: middle;\n",
              "    }\n",
              "\n",
              "    .dataframe tbody tr th {\n",
              "        vertical-align: top;\n",
              "    }\n",
              "\n",
              "    .dataframe thead th {\n",
              "        text-align: right;\n",
              "    }\n",
              "</style>\n",
              "<table border=\"1\" class=\"dataframe\">\n",
              "  <thead>\n",
              "    <tr style=\"text-align: right;\">\n",
              "      <th></th>\n",
              "      <th>Cement (component 1)(kg in a m^3 mixture)</th>\n",
              "      <th>Blast Furnace Slag (component 2)(kg in a m^3 mixture)</th>\n",
              "      <th>Fly Ash (component 3)(kg in a m^3 mixture)</th>\n",
              "      <th>Water  (component 4)(kg in a m^3 mixture)</th>\n",
              "      <th>Superplasticizer (component 5)(kg in a m^3 mixture)</th>\n",
              "      <th>Coarse Aggregate  (component 6)(kg in a m^3 mixture)</th>\n",
              "      <th>Fine Aggregate (component 7)(kg in a m^3 mixture)</th>\n",
              "      <th>Age (day)</th>\n",
              "      <th>Concrete compressive strength(MPa, megapascals)</th>\n",
              "    </tr>\n",
              "  </thead>\n",
              "  <tbody>\n",
              "    <tr>\n",
              "      <th>count</th>\n",
              "      <td>1030.000000</td>\n",
              "      <td>1030.000000</td>\n",
              "      <td>1030.000000</td>\n",
              "      <td>1030.000000</td>\n",
              "      <td>1030.000000</td>\n",
              "      <td>1030.000000</td>\n",
              "      <td>1030.000000</td>\n",
              "      <td>1030.000000</td>\n",
              "      <td>1030.000000</td>\n",
              "    </tr>\n",
              "    <tr>\n",
              "      <th>mean</th>\n",
              "      <td>0.409059</td>\n",
              "      <td>0.205609</td>\n",
              "      <td>0.270806</td>\n",
              "      <td>0.477374</td>\n",
              "      <td>0.192691</td>\n",
              "      <td>0.499764</td>\n",
              "      <td>0.450528</td>\n",
              "      <td>0.122698</td>\n",
              "      <td>0.417191</td>\n",
              "    </tr>\n",
              "    <tr>\n",
              "      <th>std</th>\n",
              "      <td>0.238599</td>\n",
              "      <td>0.240065</td>\n",
              "      <td>0.319825</td>\n",
              "      <td>0.170561</td>\n",
              "      <td>0.185523</td>\n",
              "      <td>0.226029</td>\n",
              "      <td>0.201144</td>\n",
              "      <td>0.173544</td>\n",
              "      <td>0.208119</td>\n",
              "    </tr>\n",
              "    <tr>\n",
              "      <th>min</th>\n",
              "      <td>0.000000</td>\n",
              "      <td>0.000000</td>\n",
              "      <td>0.000000</td>\n",
              "      <td>0.000000</td>\n",
              "      <td>0.000000</td>\n",
              "      <td>0.000000</td>\n",
              "      <td>0.000000</td>\n",
              "      <td>0.000000</td>\n",
              "      <td>0.000000</td>\n",
              "    </tr>\n",
              "    <tr>\n",
              "      <th>25%</th>\n",
              "      <td>0.206336</td>\n",
              "      <td>0.000000</td>\n",
              "      <td>0.000000</td>\n",
              "      <td>0.344249</td>\n",
              "      <td>0.000000</td>\n",
              "      <td>0.380814</td>\n",
              "      <td>0.343578</td>\n",
              "      <td>0.016484</td>\n",
              "      <td>0.266351</td>\n",
              "    </tr>\n",
              "    <tr>\n",
              "      <th>50%</th>\n",
              "      <td>0.390183</td>\n",
              "      <td>0.061213</td>\n",
              "      <td>0.000000</td>\n",
              "      <td>0.504792</td>\n",
              "      <td>0.198758</td>\n",
              "      <td>0.485465</td>\n",
              "      <td>0.465379</td>\n",
              "      <td>0.074176</td>\n",
              "      <td>0.400087</td>\n",
              "    </tr>\n",
              "    <tr>\n",
              "      <th>75%</th>\n",
              "      <td>0.566210</td>\n",
              "      <td>0.397746</td>\n",
              "      <td>0.591204</td>\n",
              "      <td>0.560703</td>\n",
              "      <td>0.316770</td>\n",
              "      <td>0.663953</td>\n",
              "      <td>0.577020</td>\n",
              "      <td>0.151099</td>\n",
              "      <td>0.545721</td>\n",
              "    </tr>\n",
              "    <tr>\n",
              "      <th>max</th>\n",
              "      <td>1.000000</td>\n",
              "      <td>1.000000</td>\n",
              "      <td>1.000000</td>\n",
              "      <td>1.000000</td>\n",
              "      <td>1.000000</td>\n",
              "      <td>1.000000</td>\n",
              "      <td>1.000000</td>\n",
              "      <td>1.000000</td>\n",
              "      <td>1.000000</td>\n",
              "    </tr>\n",
              "  </tbody>\n",
              "</table>\n",
              "</div>"
            ],
            "text/plain": [
              "       Cement (component 1)(kg in a m^3 mixture)  ...  Concrete compressive strength(MPa, megapascals) \n",
              "count                                1030.000000  ...                                       1030.000000\n",
              "mean                                    0.409059  ...                                          0.417191\n",
              "std                                     0.238599  ...                                          0.208119\n",
              "min                                     0.000000  ...                                          0.000000\n",
              "25%                                     0.206336  ...                                          0.266351\n",
              "50%                                     0.390183  ...                                          0.400087\n",
              "75%                                     0.566210  ...                                          0.545721\n",
              "max                                     1.000000  ...                                          1.000000\n",
              "\n",
              "[8 rows x 9 columns]"
            ]
          },
          "metadata": {
            "tags": []
          },
          "execution_count": 22
        }
      ]
    },
    {
      "cell_type": "markdown",
      "metadata": {
        "id": "Qk-PXxchQt-n"
      },
      "source": [
        "## **4.Split**"
      ]
    },
    {
      "cell_type": "code",
      "metadata": {
        "id": "MN4V1wsTQBDw"
      },
      "source": [
        "#Input and output split\n",
        "x = (data.loc[:, data.columns != 'Concrete compressive strength(MPa, megapascals) '])\n",
        "y = (data.loc[:, data.columns == 'Concrete compressive strength(MPa, megapascals) '])"
      ],
      "execution_count": 23,
      "outputs": []
    },
    {
      "cell_type": "code",
      "metadata": {
        "colab": {
          "base_uri": "https://localhost:8080/",
          "height": 255
        },
        "id": "jPrZKAoYHnxw",
        "outputId": "a14204ba-d57d-4afa-9a36-cca113e1db08"
      },
      "source": [
        "x.head()"
      ],
      "execution_count": 24,
      "outputs": [
        {
          "output_type": "execute_result",
          "data": {
            "text/html": [
              "<div>\n",
              "<style scoped>\n",
              "    .dataframe tbody tr th:only-of-type {\n",
              "        vertical-align: middle;\n",
              "    }\n",
              "\n",
              "    .dataframe tbody tr th {\n",
              "        vertical-align: top;\n",
              "    }\n",
              "\n",
              "    .dataframe thead th {\n",
              "        text-align: right;\n",
              "    }\n",
              "</style>\n",
              "<table border=\"1\" class=\"dataframe\">\n",
              "  <thead>\n",
              "    <tr style=\"text-align: right;\">\n",
              "      <th></th>\n",
              "      <th>Cement (component 1)(kg in a m^3 mixture)</th>\n",
              "      <th>Blast Furnace Slag (component 2)(kg in a m^3 mixture)</th>\n",
              "      <th>Fly Ash (component 3)(kg in a m^3 mixture)</th>\n",
              "      <th>Water  (component 4)(kg in a m^3 mixture)</th>\n",
              "      <th>Superplasticizer (component 5)(kg in a m^3 mixture)</th>\n",
              "      <th>Coarse Aggregate  (component 6)(kg in a m^3 mixture)</th>\n",
              "      <th>Fine Aggregate (component 7)(kg in a m^3 mixture)</th>\n",
              "      <th>Age (day)</th>\n",
              "    </tr>\n",
              "  </thead>\n",
              "  <tbody>\n",
              "    <tr>\n",
              "      <th>0</th>\n",
              "      <td>1.000000</td>\n",
              "      <td>0.000000</td>\n",
              "      <td>0.0</td>\n",
              "      <td>0.321086</td>\n",
              "      <td>0.07764</td>\n",
              "      <td>0.694767</td>\n",
              "      <td>0.205720</td>\n",
              "      <td>0.074176</td>\n",
              "    </tr>\n",
              "    <tr>\n",
              "      <th>1</th>\n",
              "      <td>1.000000</td>\n",
              "      <td>0.000000</td>\n",
              "      <td>0.0</td>\n",
              "      <td>0.321086</td>\n",
              "      <td>0.07764</td>\n",
              "      <td>0.738372</td>\n",
              "      <td>0.205720</td>\n",
              "      <td>0.074176</td>\n",
              "    </tr>\n",
              "    <tr>\n",
              "      <th>2</th>\n",
              "      <td>0.526256</td>\n",
              "      <td>0.396494</td>\n",
              "      <td>0.0</td>\n",
              "      <td>0.848243</td>\n",
              "      <td>0.00000</td>\n",
              "      <td>0.380814</td>\n",
              "      <td>0.000000</td>\n",
              "      <td>0.739011</td>\n",
              "    </tr>\n",
              "    <tr>\n",
              "      <th>3</th>\n",
              "      <td>0.526256</td>\n",
              "      <td>0.396494</td>\n",
              "      <td>0.0</td>\n",
              "      <td>0.848243</td>\n",
              "      <td>0.00000</td>\n",
              "      <td>0.380814</td>\n",
              "      <td>0.000000</td>\n",
              "      <td>1.000000</td>\n",
              "    </tr>\n",
              "    <tr>\n",
              "      <th>4</th>\n",
              "      <td>0.220548</td>\n",
              "      <td>0.368392</td>\n",
              "      <td>0.0</td>\n",
              "      <td>0.560703</td>\n",
              "      <td>0.00000</td>\n",
              "      <td>0.515698</td>\n",
              "      <td>0.580783</td>\n",
              "      <td>0.986264</td>\n",
              "    </tr>\n",
              "  </tbody>\n",
              "</table>\n",
              "</div>"
            ],
            "text/plain": [
              "   Cement (component 1)(kg in a m^3 mixture)  ...  Age (day)\n",
              "0                                   1.000000  ...   0.074176\n",
              "1                                   1.000000  ...   0.074176\n",
              "2                                   0.526256  ...   0.739011\n",
              "3                                   0.526256  ...   1.000000\n",
              "4                                   0.220548  ...   0.986264\n",
              "\n",
              "[5 rows x 8 columns]"
            ]
          },
          "metadata": {
            "tags": []
          },
          "execution_count": 24
        }
      ]
    },
    {
      "cell_type": "code",
      "metadata": {
        "colab": {
          "base_uri": "https://localhost:8080/",
          "height": 204
        },
        "id": "Q-2_QfvCHrPc",
        "outputId": "e0c1695b-f3ff-45c9-f6f2-b00e97414b4f"
      },
      "source": [
        "y.head()"
      ],
      "execution_count": 25,
      "outputs": [
        {
          "output_type": "execute_result",
          "data": {
            "text/html": [
              "<div>\n",
              "<style scoped>\n",
              "    .dataframe tbody tr th:only-of-type {\n",
              "        vertical-align: middle;\n",
              "    }\n",
              "\n",
              "    .dataframe tbody tr th {\n",
              "        vertical-align: top;\n",
              "    }\n",
              "\n",
              "    .dataframe thead th {\n",
              "        text-align: right;\n",
              "    }\n",
              "</style>\n",
              "<table border=\"1\" class=\"dataframe\">\n",
              "  <thead>\n",
              "    <tr style=\"text-align: right;\">\n",
              "      <th></th>\n",
              "      <th>Concrete compressive strength(MPa, megapascals)</th>\n",
              "    </tr>\n",
              "  </thead>\n",
              "  <tbody>\n",
              "    <tr>\n",
              "      <th>0</th>\n",
              "      <td>0.967485</td>\n",
              "    </tr>\n",
              "    <tr>\n",
              "      <th>1</th>\n",
              "      <td>0.741996</td>\n",
              "    </tr>\n",
              "    <tr>\n",
              "      <th>2</th>\n",
              "      <td>0.472655</td>\n",
              "    </tr>\n",
              "    <tr>\n",
              "      <th>3</th>\n",
              "      <td>0.482372</td>\n",
              "    </tr>\n",
              "    <tr>\n",
              "      <th>4</th>\n",
              "      <td>0.522860</td>\n",
              "    </tr>\n",
              "  </tbody>\n",
              "</table>\n",
              "</div>"
            ],
            "text/plain": [
              "   Concrete compressive strength(MPa, megapascals) \n",
              "0                                          0.967485\n",
              "1                                          0.741996\n",
              "2                                          0.472655\n",
              "3                                          0.482372\n",
              "4                                          0.522860"
            ]
          },
          "metadata": {
            "tags": []
          },
          "execution_count": 25
        }
      ]
    },
    {
      "cell_type": "code",
      "metadata": {
        "colab": {
          "base_uri": "https://localhost:8080/"
        },
        "id": "Jx7VQ0hhFwJS",
        "outputId": "d388d230-c160-4314-9949-dadf7db357a4"
      },
      "source": [
        "print(int(.5*len(x)))\n",
        "print(int(.8*len(x)))"
      ],
      "execution_count": 26,
      "outputs": [
        {
          "output_type": "stream",
          "text": [
            "515\n",
            "824\n"
          ],
          "name": "stdout"
        }
      ]
    },
    {
      "cell_type": "code",
      "metadata": {
        "id": "27WFdRBc_wf7"
      },
      "source": [
        "#Split into 50% Training(Samples,Labels) , 30% Test(Samples,Labels) and 20% Validation Data(Samples,Labels).\n",
        "#x_train, x_test, x_val = np.split(x, [int(.5*len(x)), int(.8*len(x))])\n",
        "#y_train, y_test, y_val = np.split(y, [int(.5*len(y)), int(.8*len(y))])\n",
        "x_train, x_test = np.split(x, [int(.7*len(x))])\n",
        "y_train, y_test = np.split(y, [int(.7*len(y))])"
      ],
      "execution_count": 27,
      "outputs": []
    },
    {
      "cell_type": "code",
      "metadata": {
        "colab": {
          "base_uri": "https://localhost:8080/"
        },
        "id": "QAYjFLR8GQs1",
        "outputId": "c6e27b2b-b051-4c3f-a747-abf0c841a12c"
      },
      "source": [
        "print(len(x_train), len(x_test))"
      ],
      "execution_count": 28,
      "outputs": [
        {
          "output_type": "stream",
          "text": [
            "721 309\n"
          ],
          "name": "stdout"
        }
      ]
    },
    {
      "cell_type": "code",
      "metadata": {
        "colab": {
          "base_uri": "https://localhost:8080/",
          "height": 255
        },
        "id": "8dIVUHvXU77c",
        "outputId": "134ec7ff-5cb0-4cd8-aee2-185918fad92b"
      },
      "source": [
        "x_train.head()"
      ],
      "execution_count": 29,
      "outputs": [
        {
          "output_type": "execute_result",
          "data": {
            "text/html": [
              "<div>\n",
              "<style scoped>\n",
              "    .dataframe tbody tr th:only-of-type {\n",
              "        vertical-align: middle;\n",
              "    }\n",
              "\n",
              "    .dataframe tbody tr th {\n",
              "        vertical-align: top;\n",
              "    }\n",
              "\n",
              "    .dataframe thead th {\n",
              "        text-align: right;\n",
              "    }\n",
              "</style>\n",
              "<table border=\"1\" class=\"dataframe\">\n",
              "  <thead>\n",
              "    <tr style=\"text-align: right;\">\n",
              "      <th></th>\n",
              "      <th>Cement (component 1)(kg in a m^3 mixture)</th>\n",
              "      <th>Blast Furnace Slag (component 2)(kg in a m^3 mixture)</th>\n",
              "      <th>Fly Ash (component 3)(kg in a m^3 mixture)</th>\n",
              "      <th>Water  (component 4)(kg in a m^3 mixture)</th>\n",
              "      <th>Superplasticizer (component 5)(kg in a m^3 mixture)</th>\n",
              "      <th>Coarse Aggregate  (component 6)(kg in a m^3 mixture)</th>\n",
              "      <th>Fine Aggregate (component 7)(kg in a m^3 mixture)</th>\n",
              "      <th>Age (day)</th>\n",
              "    </tr>\n",
              "  </thead>\n",
              "  <tbody>\n",
              "    <tr>\n",
              "      <th>0</th>\n",
              "      <td>1.000000</td>\n",
              "      <td>0.000000</td>\n",
              "      <td>0.0</td>\n",
              "      <td>0.321086</td>\n",
              "      <td>0.07764</td>\n",
              "      <td>0.694767</td>\n",
              "      <td>0.205720</td>\n",
              "      <td>0.074176</td>\n",
              "    </tr>\n",
              "    <tr>\n",
              "      <th>1</th>\n",
              "      <td>1.000000</td>\n",
              "      <td>0.000000</td>\n",
              "      <td>0.0</td>\n",
              "      <td>0.321086</td>\n",
              "      <td>0.07764</td>\n",
              "      <td>0.738372</td>\n",
              "      <td>0.205720</td>\n",
              "      <td>0.074176</td>\n",
              "    </tr>\n",
              "    <tr>\n",
              "      <th>2</th>\n",
              "      <td>0.526256</td>\n",
              "      <td>0.396494</td>\n",
              "      <td>0.0</td>\n",
              "      <td>0.848243</td>\n",
              "      <td>0.00000</td>\n",
              "      <td>0.380814</td>\n",
              "      <td>0.000000</td>\n",
              "      <td>0.739011</td>\n",
              "    </tr>\n",
              "    <tr>\n",
              "      <th>3</th>\n",
              "      <td>0.526256</td>\n",
              "      <td>0.396494</td>\n",
              "      <td>0.0</td>\n",
              "      <td>0.848243</td>\n",
              "      <td>0.00000</td>\n",
              "      <td>0.380814</td>\n",
              "      <td>0.000000</td>\n",
              "      <td>1.000000</td>\n",
              "    </tr>\n",
              "    <tr>\n",
              "      <th>4</th>\n",
              "      <td>0.220548</td>\n",
              "      <td>0.368392</td>\n",
              "      <td>0.0</td>\n",
              "      <td>0.560703</td>\n",
              "      <td>0.00000</td>\n",
              "      <td>0.515698</td>\n",
              "      <td>0.580783</td>\n",
              "      <td>0.986264</td>\n",
              "    </tr>\n",
              "  </tbody>\n",
              "</table>\n",
              "</div>"
            ],
            "text/plain": [
              "   Cement (component 1)(kg in a m^3 mixture)  ...  Age (day)\n",
              "0                                   1.000000  ...   0.074176\n",
              "1                                   1.000000  ...   0.074176\n",
              "2                                   0.526256  ...   0.739011\n",
              "3                                   0.526256  ...   1.000000\n",
              "4                                   0.220548  ...   0.986264\n",
              "\n",
              "[5 rows x 8 columns]"
            ]
          },
          "metadata": {
            "tags": []
          },
          "execution_count": 29
        }
      ]
    },
    {
      "cell_type": "code",
      "metadata": {
        "colab": {
          "base_uri": "https://localhost:8080/",
          "height": 204
        },
        "id": "ppxSzDy_Gz2R",
        "outputId": "2dbb81a4-9146-49a5-d5b1-1fd29617a908"
      },
      "source": [
        "y_train.head()"
      ],
      "execution_count": 30,
      "outputs": [
        {
          "output_type": "execute_result",
          "data": {
            "text/html": [
              "<div>\n",
              "<style scoped>\n",
              "    .dataframe tbody tr th:only-of-type {\n",
              "        vertical-align: middle;\n",
              "    }\n",
              "\n",
              "    .dataframe tbody tr th {\n",
              "        vertical-align: top;\n",
              "    }\n",
              "\n",
              "    .dataframe thead th {\n",
              "        text-align: right;\n",
              "    }\n",
              "</style>\n",
              "<table border=\"1\" class=\"dataframe\">\n",
              "  <thead>\n",
              "    <tr style=\"text-align: right;\">\n",
              "      <th></th>\n",
              "      <th>Concrete compressive strength(MPa, megapascals)</th>\n",
              "    </tr>\n",
              "  </thead>\n",
              "  <tbody>\n",
              "    <tr>\n",
              "      <th>0</th>\n",
              "      <td>0.967485</td>\n",
              "    </tr>\n",
              "    <tr>\n",
              "      <th>1</th>\n",
              "      <td>0.741996</td>\n",
              "    </tr>\n",
              "    <tr>\n",
              "      <th>2</th>\n",
              "      <td>0.472655</td>\n",
              "    </tr>\n",
              "    <tr>\n",
              "      <th>3</th>\n",
              "      <td>0.482372</td>\n",
              "    </tr>\n",
              "    <tr>\n",
              "      <th>4</th>\n",
              "      <td>0.522860</td>\n",
              "    </tr>\n",
              "  </tbody>\n",
              "</table>\n",
              "</div>"
            ],
            "text/plain": [
              "   Concrete compressive strength(MPa, megapascals) \n",
              "0                                          0.967485\n",
              "1                                          0.741996\n",
              "2                                          0.472655\n",
              "3                                          0.482372\n",
              "4                                          0.522860"
            ]
          },
          "metadata": {
            "tags": []
          },
          "execution_count": 30
        }
      ]
    },
    {
      "cell_type": "markdown",
      "metadata": {
        "id": "Di2yauXbVY9c"
      },
      "source": [
        "## **5.Model & 6.Compilation Step**"
      ]
    },
    {
      "cell_type": "code",
      "metadata": {
        "id": "Px7x8-tgVOVj"
      },
      "source": [
        "def build_model():\n",
        "  model = models.Sequential()\n",
        "  model.add(layers.Dense(10, activation='relu', input_shape=(x_train.shape[1],)))\n",
        "  model.add(layers.Dense(10, activation='relu'))\n",
        "  model.add(layers.Dense(8, activation='relu'))\n",
        "  model.add(layers.Dense(6, activation='relu'))\n",
        "  model.add(layers.Dense(1))\n",
        "  model.compile(optimizer='rmsprop', loss='mse', metrics=['mae'])\n",
        "  return model"
      ],
      "execution_count": 33,
      "outputs": []
    },
    {
      "cell_type": "code",
      "metadata": {
        "colab": {
          "base_uri": "https://localhost:8080/"
        },
        "id": "rajamKhqYQB7",
        "outputId": "4636d2bf-7489-4925-ee9b-311797171766"
      },
      "source": [
        "import numpy as np\n",
        "k = 4\n",
        "num_val_samples = len(x_train) // k\n",
        "num_epochs = 100\n",
        "all_mae_histories = []\n",
        "print(num_val_samples)"
      ],
      "execution_count": 34,
      "outputs": [
        {
          "output_type": "stream",
          "text": [
            "180\n"
          ],
          "name": "stdout"
        }
      ]
    },
    {
      "cell_type": "markdown",
      "metadata": {
        "id": "ETNTYXOfxp7s"
      },
      "source": [
        "## **7.Train the Model**"
      ]
    },
    {
      "cell_type": "code",
      "metadata": {
        "colab": {
          "base_uri": "https://localhost:8080/"
        },
        "id": "5HD_4F5nYVkZ",
        "outputId": "65a4b3e8-aa28-4073-909e-b83d247cf276"
      },
      "source": [
        "for i in range(k):\n",
        "  print('processing fold #', i)\n",
        "  val_data = x_train[i * num_val_samples: (i + 1) * num_val_samples]\n",
        "  val_targets = y_train[i * num_val_samples: (i + 1) * num_val_samples]\n",
        "  partial_train_data = np.concatenate([x_train[:i * num_val_samples], x_train[(i + 1) * num_val_samples:]], axis=0)\n",
        "  partial_train_targets = np.concatenate([y_train[:i * num_val_samples], y_train[(i + 1) * num_val_samples:]], axis=0)\n",
        "  model = build_model()\n",
        "  history = model.fit(partial_train_data, partial_train_targets, validation_data=(val_data, val_targets), epochs=num_epochs, batch_size=1, verbose=0)\n",
        "  mae_history = history.history['val_mae']\n",
        "  all_mae_histories.append(mae_history)"
      ],
      "execution_count": 35,
      "outputs": [
        {
          "output_type": "stream",
          "text": [
            "processing fold # 0\n",
            "processing fold # 1\n",
            "processing fold # 2\n",
            "processing fold # 3\n"
          ],
          "name": "stdout"
        }
      ]
    },
    {
      "cell_type": "code",
      "metadata": {
        "id": "a1sLi2BUZSoW"
      },
      "source": [
        "average_mae_history = [\n",
        "np.mean([x[i] for x in all_mae_histories]) for i in range(num_epochs)]"
      ],
      "execution_count": 36,
      "outputs": []
    },
    {
      "cell_type": "code",
      "metadata": {
        "id": "U7HGsH27ZdE9",
        "colab": {
          "base_uri": "https://localhost:8080/",
          "height": 279
        },
        "outputId": "e82235ab-e153-4542-f7a4-b3de745cc647"
      },
      "source": [
        "import matplotlib.pyplot as plt\n",
        "plt.plot(range(1, len(average_mae_history) + 1), average_mae_history)\n",
        "plt.xlabel('Epochs')\n",
        "plt.ylabel('Validation MAE')\n",
        "plt.show()"
      ],
      "execution_count": 37,
      "outputs": [
        {
          "output_type": "display_data",
          "data": {
            "image/png": "[encoded data removed]",
            "text/plain": [
              "<Figure size 432x288 with 1 Axes>"
            ]
          },
          "metadata": {
            "tags": [],
            "needs_background": "light"
          }
        }
      ]
    },
    {
      "cell_type": "code",
      "metadata": {
        "id": "WYSOF3lLVGS2"
      },
      "source": [
        "def smooth_curve(points, factor=0.9):\n",
        "  smoothed_points = []\n",
        "  for point in points:\n",
        "    if smoothed_points:\n",
        "      previous = smoothed_points[-1]\n",
        "      smoothed_points.append(previous * factor + point * (1 - factor))\n",
        "    else:\n",
        "      smoothed_points.append(point)\n",
        "  return smoothed_points\n",
        "smooth_mae_history = smooth_curve(average_mae_history[10:])"
      ],
      "execution_count": 38,
      "outputs": []
    },
    {
      "cell_type": "code",
      "metadata": {
        "colab": {
          "base_uri": "https://localhost:8080/",
          "height": 279
        },
        "id": "KKbGmHjlVJX0",
        "outputId": "4985003e-7cab-4e03-ae6e-d05178f7e6e8"
      },
      "source": [
        "plt.plot(range(1, len(smooth_mae_history) + 1), smooth_mae_history)\n",
        "plt.xlabel('Epochs')\n",
        "plt.ylabel('Validation MAE')\n",
        "plt.show()"
      ],
      "execution_count": 39,
      "outputs": [
        {
          "output_type": "display_data",
          "data": {
            "image/png": "[encoded data removed]",
            "text/plain": [
              "<Figure size 432x288 with 1 Axes>"
            ]
          },
          "metadata": {
            "tags": [],
            "needs_background": "light"
          }
        }
      ]
    },
    {
      "cell_type": "markdown",
      "metadata": {
        "id": "txwNujoSl8eK"
      },
      "source": [
        "## **8. Tune Model**"
      ]
    },
    {
      "cell_type": "code",
      "metadata": {
        "colab": {
          "base_uri": "https://localhost:8080/"
        },
        "id": "VewcsEppVQR-",
        "outputId": "c8c89165-3dd9-4a53-a4cc-ca5675db5b95"
      },
      "source": [
        "model = build_model()\n",
        "model.fit(x_train, y_train, epochs=18, batch_size=16, verbose=0)"
      ],
      "execution_count": 40,
      "outputs": [
        {
          "output_type": "execute_result",
          "data": {
            "text/plain": [
              "<tensorflow.python.keras.callbacks.History at 0x7f327af8c4d0>"
            ]
          },
          "metadata": {
            "tags": []
          },
          "execution_count": 40
        }
      ]
    },
    {
      "cell_type": "markdown",
      "metadata": {
        "id": "9PcXRbOUl-jP"
      },
      "source": [
        "## **9.Evaluation Step**"
      ]
    },
    {
      "cell_type": "code",
      "metadata": {
        "colab": {
          "base_uri": "https://localhost:8080/"
        },
        "id": "XpnCO4WXVkvi",
        "outputId": "5b03230f-ece0-4f79-fbbe-a13a0e67905f"
      },
      "source": [
        "test_mse_score, test_mae_score = model.evaluate(x_test, y_test)"
      ],
      "execution_count": 41,
      "outputs": [
        {
          "output_type": "stream",
          "text": [
            "10/10 [==============================] - 0s 2ms/step - loss: 0.0186 - mae: 0.1057\n"
          ],
          "name": "stdout"
        }
      ]
    },
    {
      "cell_type": "code",
      "metadata": {
        "colab": {
          "base_uri": "https://localhost:8080/"
        },
        "id": "VUY7m8EkVrso",
        "outputId": "2db58ffc-1b55-4bee-957b-bacb08006266"
      },
      "source": [
        "test_mse_score"
      ],
      "execution_count": 42,
      "outputs": [
        {
          "output_type": "execute_result",
          "data": {
            "text/plain": [
              "0.01855505257844925"
            ]
          },
          "metadata": {
            "tags": []
          },
          "execution_count": 42
        }
      ]
    },
    {
      "cell_type": "code",
      "metadata": {
        "colab": {
          "base_uri": "https://localhost:8080/"
        },
        "id": "8WLZRwJgxIF6",
        "outputId": "32198e24-e356-4de0-9c26-cc379a9fc030"
      },
      "source": [
        "test_mae_score"
      ],
      "execution_count": 44,
      "outputs": [
        {
          "output_type": "execute_result",
          "data": {
            "text/plain": [
              "0.10574660450220108"
            ]
          },
          "metadata": {
            "tags": []
          },
          "execution_count": 44
        }
      ]
    },
    {
      "cell_type": "markdown",
      "metadata": {
        "id": "0icVre6PmCIc"
      },
      "source": [
        "## **10.Prediction**"
      ]
    },
    {
      "cell_type": "code",
      "metadata": {
        "id": "a2ijOk9ZZf1j",
        "colab": {
          "base_uri": "https://localhost:8080/"
        },
        "outputId": "8e6a9b6f-4d79-4cd1-d28a-0d4a95eb7df4"
      },
      "source": [
        "model.predict(x_test)"
      ],
      "execution_count": 43,
      "outputs": [
        {
          "output_type": "execute_result",
          "data": {
            "text/plain": [
              "array([[0.16184308],\n",
              "       [0.17435715],\n",
              "       [0.24005595],\n",
              "       [0.39641526],\n",
              "       [0.43224734],\n",
              "       [0.17937109],\n",
              "       [0.19188514],\n",
              "       [0.25758392],\n",
              "       [0.43255156],\n",
              "       [0.46393406],\n",
              "       [0.19120848],\n",
              "       [0.20372263],\n",
              "       [0.26942137],\n",
              "       [0.46338916],\n",
              "       [0.49794254],\n",
              "       [0.14426756],\n",
              "       [0.19913518],\n",
              "       [0.18723232],\n",
              "       [0.25293103],\n",
              "       [0.22190586],\n",
              "       [0.4535714 ],\n",
              "       [0.62151814],\n",
              "       [0.36433294],\n",
              "       [0.16894245],\n",
              "       [0.23650295],\n",
              "       [0.37721258],\n",
              "       [0.38346967],\n",
              "       [0.39598367],\n",
              "       [0.41788322],\n",
              "       [0.4616825 ],\n",
              "       [0.4589257 ],\n",
              "       [0.47938302],\n",
              "       [0.52029765],\n",
              "       [0.6001615 ],\n",
              "       [0.6638566 ],\n",
              "       [0.72755164],\n",
              "       [0.22639087],\n",
              "       [0.24829045],\n",
              "       [0.2920896 ],\n",
              "       [0.3622744 ],\n",
              "       [0.43362597],\n",
              "       [0.45002618],\n",
              "       [0.2730669 ],\n",
              "       [0.2796174 ],\n",
              "       [0.29271853],\n",
              "       [0.3156453 ],\n",
              "       [0.35963622],\n",
              "       [0.4596301 ],\n",
              "       [0.49243045],\n",
              "       [0.19544637],\n",
              "       [0.19038594],\n",
              "       [0.2823215 ],\n",
              "       [0.3480203 ],\n",
              "       [0.23880848],\n",
              "       [0.2346412 ],\n",
              "       [0.2364974 ],\n",
              "       [0.30219615],\n",
              "       [0.19425854],\n",
              "       [0.2599573 ],\n",
              "       [0.20015919],\n",
              "       [0.17973521],\n",
              "       [0.24543399],\n",
              "       [0.4133435 ],\n",
              "       [0.1684066 ],\n",
              "       [0.20290005],\n",
              "       [0.26347798],\n",
              "       [0.4120905 ],\n",
              "       [0.20796049],\n",
              "       [0.2736592 ],\n",
              "       [0.46762702],\n",
              "       [0.5065542 ],\n",
              "       [0.53935456],\n",
              "       [0.16932923],\n",
              "       [0.38344175],\n",
              "       [0.6611908 ],\n",
              "       [0.5357723 ],\n",
              "       [0.61801094],\n",
              "       [0.70024925],\n",
              "       [0.44723582],\n",
              "       [0.15358463],\n",
              "       [0.20845225],\n",
              "       [0.30473834],\n",
              "       [0.28562936],\n",
              "       [0.36477438],\n",
              "       [0.5194446 ],\n",
              "       [0.2841832 ],\n",
              "       [0.349882  ],\n",
              "       [0.15269728],\n",
              "       [0.20845225],\n",
              "       [0.16367972],\n",
              "       [0.21401626],\n",
              "       [0.36262873],\n",
              "       [0.42696515],\n",
              "       [0.46471417],\n",
              "       [0.4231305 ],\n",
              "       [0.43564463],\n",
              "       [0.45754424],\n",
              "       [0.5013434 ],\n",
              "       [0.58431464],\n",
              "       [0.7248859 ],\n",
              "       [0.20730406],\n",
              "       [0.24086177],\n",
              "       [0.4111062 ],\n",
              "       [0.20288691],\n",
              "       [0.36619467],\n",
              "       [0.3718568 ],\n",
              "       [0.31064788],\n",
              "       [0.38769516],\n",
              "       [0.5677063 ],\n",
              "       [0.6930426 ],\n",
              "       [0.47840074],\n",
              "       [0.4093266 ],\n",
              "       [0.6800856 ],\n",
              "       [0.7873923 ],\n",
              "       [0.46341532],\n",
              "       [0.48930854],\n",
              "       [0.5338616 ],\n",
              "       [0.61807555],\n",
              "       [0.41790023],\n",
              "       [0.59170187],\n",
              "       [0.52994734],\n",
              "       [0.37091875],\n",
              "       [0.48831695],\n",
              "       [0.5522154 ],\n",
              "       [0.49334508],\n",
              "       [0.60121787],\n",
              "       [0.5200546 ],\n",
              "       [0.46371853],\n",
              "       [0.42375204],\n",
              "       [0.5744462 ],\n",
              "       [0.5600109 ],\n",
              "       [0.3708899 ],\n",
              "       [0.433524  ],\n",
              "       [0.5881398 ],\n",
              "       [0.59888047],\n",
              "       [0.53046006],\n",
              "       [0.39240387],\n",
              "       [0.5936965 ],\n",
              "       [0.36185932],\n",
              "       [0.48066035],\n",
              "       [0.5062008 ],\n",
              "       [0.3578853 ],\n",
              "       [0.48510346],\n",
              "       [0.48480105],\n",
              "       [0.45220855],\n",
              "       [0.6074536 ],\n",
              "       [0.5703806 ],\n",
              "       [0.5355898 ],\n",
              "       [0.42606896],\n",
              "       [0.3772555 ],\n",
              "       [0.5187472 ],\n",
              "       [0.5291202 ],\n",
              "       [0.39590377],\n",
              "       [0.4861127 ],\n",
              "       [0.47823635],\n",
              "       [0.26683697],\n",
              "       [0.41273588],\n",
              "       [0.2731078 ],\n",
              "       [0.5442885 ],\n",
              "       [0.30265686],\n",
              "       [0.47865483],\n",
              "       [0.39588994],\n",
              "       [0.48675916],\n",
              "       [0.49618804],\n",
              "       [0.40244088],\n",
              "       [0.45124227],\n",
              "       [0.4740668 ],\n",
              "       [0.4025053 ],\n",
              "       [0.45092413],\n",
              "       [0.39242643],\n",
              "       [0.4590386 ],\n",
              "       [0.47156677],\n",
              "       [0.39447352],\n",
              "       [0.47625464],\n",
              "       [0.54119337],\n",
              "       [0.626653  ],\n",
              "       [0.5025418 ],\n",
              "       [0.3596823 ],\n",
              "       [0.35223305],\n",
              "       [0.606093  ],\n",
              "       [0.41880918],\n",
              "       [0.56651163],\n",
              "       [0.35386014],\n",
              "       [0.41666916],\n",
              "       [0.3172286 ],\n",
              "       [0.56146806],\n",
              "       [0.5946368 ],\n",
              "       [0.5313481 ],\n",
              "       [0.2761199 ],\n",
              "       [0.39933178],\n",
              "       [0.3192149 ],\n",
              "       [0.5494128 ],\n",
              "       [0.53546613],\n",
              "       [0.59855413],\n",
              "       [0.5143513 ],\n",
              "       [0.47758806],\n",
              "       [0.26141018],\n",
              "       [0.2560065 ],\n",
              "       [0.4201552 ],\n",
              "       [0.47193614],\n",
              "       [0.25698286],\n",
              "       [0.46125847],\n",
              "       [0.5384438 ],\n",
              "       [0.3822283 ],\n",
              "       [0.4840083 ],\n",
              "       [0.5658033 ],\n",
              "       [0.5315807 ],\n",
              "       [0.43862513],\n",
              "       [0.34173924],\n",
              "       [0.49508208],\n",
              "       [0.28999278],\n",
              "       [0.41920263],\n",
              "       [0.4704397 ],\n",
              "       [0.36031935],\n",
              "       [0.4334623 ],\n",
              "       [0.39577165],\n",
              "       [0.48642835],\n",
              "       [0.4803964 ],\n",
              "       [0.27642867],\n",
              "       [0.40598944],\n",
              "       [0.2762211 ],\n",
              "       [0.5442258 ],\n",
              "       [0.30099314],\n",
              "       [0.47890198],\n",
              "       [0.4051606 ],\n",
              "       [0.4826273 ],\n",
              "       [0.49589354],\n",
              "       [0.40243006],\n",
              "       [0.45367408],\n",
              "       [0.47169575],\n",
              "       [0.40201184],\n",
              "       [0.45036635],\n",
              "       [0.39281467],\n",
              "       [0.45106855],\n",
              "       [0.46642387],\n",
              "       [0.3963363 ],\n",
              "       [0.4855763 ],\n",
              "       [0.54945785],\n",
              "       [0.6180541 ],\n",
              "       [0.50689083],\n",
              "       [0.3672417 ],\n",
              "       [0.35495093],\n",
              "       [0.6038493 ],\n",
              "       [0.4296321 ],\n",
              "       [0.5685257 ],\n",
              "       [0.35543287],\n",
              "       [0.41888055],\n",
              "       [0.31736413],\n",
              "       [0.57051283],\n",
              "       [0.59453285],\n",
              "       [0.5310888 ],\n",
              "       [0.28695923],\n",
              "       [0.4097882 ],\n",
              "       [0.318631  ],\n",
              "       [0.5500512 ],\n",
              "       [0.53087926],\n",
              "       [0.598281  ],\n",
              "       [0.51904947],\n",
              "       [0.46493647],\n",
              "       [0.26576245],\n",
              "       [0.2550259 ],\n",
              "       [0.41945046],\n",
              "       [0.48054484],\n",
              "       [0.25790346],\n",
              "       [0.47273508],\n",
              "       [0.5681827 ],\n",
              "       [0.68892807],\n",
              "       [0.48010615],\n",
              "       [0.40364802],\n",
              "       [0.68311566],\n",
              "       [0.7871296 ],\n",
              "       [0.46049702],\n",
              "       [0.49489295],\n",
              "       [0.52695197],\n",
              "       [0.6179805 ],\n",
              "       [0.42574176],\n",
              "       [0.59161955],\n",
              "       [0.5254186 ],\n",
              "       [0.3616704 ],\n",
              "       [0.4859395 ],\n",
              "       [0.5514389 ],\n",
              "       [0.48281914],\n",
              "       [0.5906962 ],\n",
              "       [0.5304716 ],\n",
              "       [0.47024718],\n",
              "       [0.41655073],\n",
              "       [0.5664794 ],\n",
              "       [0.56661385],\n",
              "       [0.3729401 ],\n",
              "       [0.4273091 ],\n",
              "       [0.59247345],\n",
              "       [0.59686285],\n",
              "       [0.52929145],\n",
              "       [0.4033157 ],\n",
              "       [0.60655344],\n",
              "       [0.3571556 ],\n",
              "       [0.4829963 ],\n",
              "       [0.5174914 ],\n",
              "       [0.35367426],\n",
              "       [0.48455533],\n",
              "       [0.486282  ],\n",
              "       [0.44915402],\n",
              "       [0.6100228 ],\n",
              "       [0.56758803],\n",
              "       [0.5332785 ],\n",
              "       [0.42995408],\n",
              "       [0.37984964],\n",
              "       [0.52701694],\n",
              "       [0.5194908 ]], dtype=float32)"
            ]
          },
          "metadata": {
            "tags": []
          },
          "execution_count": 43
        }
      ]
    }
  ]
}