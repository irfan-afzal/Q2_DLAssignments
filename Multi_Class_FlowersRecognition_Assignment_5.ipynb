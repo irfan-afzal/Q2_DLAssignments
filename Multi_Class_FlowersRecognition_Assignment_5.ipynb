{
  "nbformat": 4,
  "nbformat_minor": 0,
  "metadata": {
    "colab": {
      "name": "Multi-Class_FlowersRecognition_Assignment_5.ipynb",
      "provenance": [],
      "collapsed_sections": []
    },
    "kernelspec": {
      "name": "python3",
      "display_name": "Python 3"
    },
    "language_info": {
      "name": "python"
    }
  },
  "cells": [
    {
      "cell_type": "markdown",
      "metadata": {
        "id": "TvhHZcdSsR0b"
      },
      "source": [
        "# **Assignment: Flowers Recognition**\n",
        "## **Dataset Description:**\n",
        "\n",
        "This dataset contains 4242 images of flowers.\n",
        "The data collection is based on the data flicr, google images, yandex images.\n",
        "You can use this datastet to recognize plants from the photo.\n",
        "\n",
        "Attribute Information:\n",
        "The pictures are divided into five classes: chamomile, tulip, rose, sunflower, dandelion.\n",
        "For each class there are about 800 photos. Photos are not high resolution, about 320x240 pixels.\n",
        "Also explore how to resize images in tensorflow and then resize all the images to a same size.\n",
        "This is a Multiclass Classification Problem.\n",
        "\n",
        "## **WORKFLOW :**\n",
        "Load Data\n",
        "Split into 60 and 40 ratio.\n",
        "Encode labels.\n",
        "Create Model\n",
        "Compilation Step (Note : Its a Multiclass Classification problem , select loss , metrics according to it)\n",
        "Train the Model.\n",
        "If the model gets overfit tune your model by changing the units , No. of layers , epochs , add dropout layer or add Regularizer according to the need .\n",
        "Prediction should be > 85%\n",
        "Evaluation Step\n",
        "Prediction\n",
        "\n",
        "## **Data :**\n",
        "https://drive.google.com/file/d/1-OX6wn5gA-bJpjPNfSyaYQLz-A-AB_uj/view?usp=sharing"
      ]
    },
    {
      "cell_type": "code",
      "metadata": {
        "id": "ANaF9HYgiFr5"
      },
      "source": [
        "import pathlib as pl\n",
        "import numpy as np\n",
        "import pandas as pd\n",
        "import tensorflow as tf\n",
        "import matplotlib.pyplot as plt\n",
        "from tensorflow.keras.models import Sequential\n",
        "from tensorflow.keras.layers import Dense \n",
        "from tensorflow.keras.optimizers import Adam, SGD\n",
        "from keras import models\n",
        "from keras import layers\n",
        "import glob\n",
        "import os\n",
        "import cv2"
      ],
      "execution_count": null,
      "outputs": []
    },
    {
      "cell_type": "markdown",
      "metadata": {
        "id": "mSM3U10ZtJ-N"
      },
      "source": [
        "## **Load Data**"
      ]
    },
    {
      "cell_type": "code",
      "metadata": {
        "id": "k4wr6N8InkpT"
      },
      "source": [
        "#filelist = glob.glob(\"/content/drive/MyDrive/AI/DLAssignment/Flowers_Recognition/flowers/*.*\", recursive=True)\n",
        "root = '/content/drive/MyDrive/AI/DLAssignment/Flowers_Recognition/flowers/'\n",
        "#data = np.array([np.array(Image.open(fname)) for fname in filelist])\n",
        "#print(filelist)\n",
        "#ImagesList = []\n",
        "\n",
        "flowers = []\n",
        "features = []\n",
        "labels = []\n",
        "ImageSize = (50, 50)\n",
        "\n",
        "# for path, subdirs, files in os.walk(root):\n",
        "#     flowers.append(path)\n",
        "#     print(path)\n",
        "#     for name in files:\n",
        "#         #print(os.path.join(path, name))\n",
        "#         if name.endswith(\"jpg\"):\n",
        "#           labels.append(path)\n",
        "#           imageFile = cv2.imread(str(os.path.join(path, name)), cv2.IMREAD_GRAYSCALE)\n",
        "#           imageResized = cv2.resize(imageFile, (150,150))\n",
        "#           ImagesList.append(imageResized)\n",
        "#           # ImagesList.append(imageFile)\n",
        "\n",
        "#           # img = cv2.imread(os.path.join(data,folder,file))\n",
        "#           #     im = cv2.resize(img,size)\n",
        "#           #     data_images.append(im)\n",
        "\n",
        "#path = pl.Path(root)\n",
        "\n",
        "# Iterating Over Directory To Extract Sub Directories\n",
        "for dir in pl.Path(root).iterdir():\n",
        "  flowers.append(dir.name)\n",
        "  #print('Root: ', dir.name)\n",
        "# Iterating Over Sub Directories To Extract Lables\n",
        "  for imgpath in dir.iterdir():\n",
        "    if imgpath.name.endswith(\"jpg\"):\n",
        "      #print('Sub folder: ', dir.name)\n",
        "      labels.append(dir.name)\n",
        "      imgfile = cv2.imread(str(imgpath), cv2.IMREAD_GRAYSCALE)\n",
        "      imgarr = cv2.resize(imgfile, ImageSize)\n",
        "      features.append(imgarr)\n",
        "\n",
        "\n",
        "#data = np.array([np.array(cv2.imread(os.path.join(path, name),0), dtype=object) for path, subdirs, files in os.walk(root) for name in files])\n",
        "#dataframe = pd.read_csv(filename)\n",
        "#[os.path.join(path, name) for path, subdirs, files in os.walk(root) for name in files]"
      ],
      "execution_count": null,
      "outputs": []
    },
    {
      "cell_type": "code",
      "metadata": {
        "colab": {
          "base_uri": "https://localhost:8080/"
        },
        "id": "Hh-B4XBdnrAq",
        "outputId": "f81f0c94-e709-4998-d25e-8fdfcb71e6a7"
      },
      "source": [
        "print(len(features), len(flowers), len(labels))"
      ],
      "execution_count": null,
      "outputs": [
        {
          "output_type": "stream",
          "text": [
            "4323 5 4323\n"
          ],
          "name": "stdout"
        }
      ]
    },
    {
      "cell_type": "code",
      "metadata": {
        "colab": {
          "base_uri": "https://localhost:8080/"
        },
        "id": "pZ1uHKSSn1qI",
        "outputId": "a8b2f1a1-8b27-4e54-db75-b76ce17d3757"
      },
      "source": [
        "for flower in flowers:\n",
        "  print(flower)"
      ],
      "execution_count": null,
      "outputs": [
        {
          "output_type": "stream",
          "text": [
            "dandelion\n",
            "rose\n",
            "daisy\n",
            "sunflower\n",
            "tulip\n"
          ],
          "name": "stdout"
        }
      ]
    },
    {
      "cell_type": "code",
      "metadata": {
        "colab": {
          "base_uri": "https://localhost:8080/"
        },
        "id": "NspO9n8DuFRX",
        "outputId": "7d754d99-f96a-48a9-ce1d-ad03dd6ceb44"
      },
      "source": [
        "print(labels[0], labels[2000], labels[3501], labels[4300])"
      ],
      "execution_count": null,
      "outputs": [
        {
          "output_type": "stream",
          "text": [
            "dandelion daisy tulip tulip\n"
          ],
          "name": "stdout"
        }
      ]
    },
    {
      "cell_type": "code",
      "metadata": {
        "colab": {
          "base_uri": "https://localhost:8080/"
        },
        "id": "E3HrDfI_Tta5",
        "outputId": "b01bb8b0-ad2e-4203-f0c0-fcfed679acd5"
      },
      "source": [
        "# from keras.utils import to_categorical\n",
        "# labels_cat = to_categorical(labels)\n",
        "# print(labels_cat)\n",
        "label_dummies = pd.get_dummies(labels)\n",
        "labels =  label_dummies.values.argmax(1)\n",
        "print(label_dummies)\n",
        "print(labels)"
      ],
      "execution_count": null,
      "outputs": [
        {
          "output_type": "stream",
          "text": [
            "      daisy  dandelion  rose  sunflower  tulip\n",
            "0         0          1     0          0      0\n",
            "1         0          1     0          0      0\n",
            "2         0          1     0          0      0\n",
            "3         0          1     0          0      0\n",
            "4         0          1     0          0      0\n",
            "...     ...        ...   ...        ...    ...\n",
            "4318      0          0     0          0      1\n",
            "4319      0          0     0          0      1\n",
            "4320      0          0     0          0      1\n",
            "4321      0          0     0          0      1\n",
            "4322      0          0     0          0      1\n",
            "\n",
            "[4323 rows x 5 columns]\n",
            "[1 1 1 ... 4 4 4]\n"
          ],
          "name": "stdout"
        }
      ]
    },
    {
      "cell_type": "code",
      "metadata": {
        "colab": {
          "base_uri": "https://localhost:8080/"
        },
        "id": "aLQQjuvGQkVD",
        "outputId": "7ad1c7b6-ca21-4db4-d03f-e2c44a10652e"
      },
      "source": [
        "print(np.unique(labels))"
      ],
      "execution_count": null,
      "outputs": [
        {
          "output_type": "stream",
          "text": [
            "[0 1 2 3 4]\n"
          ],
          "name": "stdout"
        }
      ]
    },
    {
      "cell_type": "markdown",
      "metadata": {
        "id": "I-FPGCfvSbgm"
      },
      "source": [
        "## **Encode labels**"
      ]
    },
    {
      "cell_type": "code",
      "metadata": {
        "id": "urE2lLK4R_im"
      },
      "source": [
        "#labels = np.asarray(labels).astype(\"float32\")\n",
        "#data = features.reshape((4323, 50 * 50))\n",
        "data = np.asarray(features).astype(\"float32\")/255"
      ],
      "execution_count": null,
      "outputs": []
    },
    {
      "cell_type": "code",
      "metadata": {
        "id": "yHkBELkz2fnY"
      },
      "source": [
        "data"
      ],
      "execution_count": null,
      "outputs": []
    },
    {
      "cell_type": "code",
      "metadata": {
        "colab": {
          "base_uri": "https://localhost:8080/"
        },
        "id": "HR5XU8vf2oN-",
        "outputId": "609fa37c-e321-4810-a253-48b0eaee4677"
      },
      "source": [
        "data.shape"
      ],
      "execution_count": null,
      "outputs": [
        {
          "output_type": "execute_result",
          "data": {
            "text/plain": [
              "(4323, 50, 50)"
            ]
          },
          "metadata": {
            "tags": []
          },
          "execution_count": 34
        }
      ]
    },
    {
      "cell_type": "code",
      "metadata": {
        "id": "8lDdQl3c2cXF"
      },
      "source": [
        "data = data.reshape((data.shape[0], 50 * 50))"
      ],
      "execution_count": null,
      "outputs": []
    },
    {
      "cell_type": "code",
      "metadata": {
        "colab": {
          "base_uri": "https://localhost:8080/"
        },
        "id": "M6t1lTlP2soo",
        "outputId": "f6823832-5c05-4583-da11-9067524389c4"
      },
      "source": [
        "data.shape"
      ],
      "execution_count": null,
      "outputs": [
        {
          "output_type": "execute_result",
          "data": {
            "text/plain": [
              "(4323, 2500)"
            ]
          },
          "metadata": {
            "tags": []
          },
          "execution_count": 36
        }
      ]
    },
    {
      "cell_type": "code",
      "metadata": {
        "colab": {
          "base_uri": "https://localhost:8080/"
        },
        "id": "Ct8mExQN5Mdy",
        "outputId": "7a1aa71e-f5bc-4bcf-a8b9-0659e1aec0e8"
      },
      "source": [
        "labels.shape"
      ],
      "execution_count": null,
      "outputs": [
        {
          "output_type": "execute_result",
          "data": {
            "text/plain": [
              "(4323,)"
            ]
          },
          "metadata": {
            "tags": []
          },
          "execution_count": 37
        }
      ]
    },
    {
      "cell_type": "code",
      "metadata": {
        "id": "ZB5Tds5yk5dY"
      },
      "source": [
        "from sklearn.model_selection import train_test_split\n",
        "train_data, test_data, train_labels, test_labels=train_test_split(data, labels, test_size=0.4, random_state=1)\n",
        "#x_train, x_test, y_train, y_test = train_test_split(x, y, test_size=0.0, random_state=42)"
      ],
      "execution_count": null,
      "outputs": []
    },
    {
      "cell_type": "code",
      "metadata": {
        "id": "FwjWfRmrU_uu"
      },
      "source": [
        "# labels = labels.reshape((4323,))\n",
        "# labels = np.asarray(labels).astype(\"float32\")\n",
        "train_data=train_data.astype(\"float32\")/255\n",
        "test_data = test_data.astype(\"float32\")/255"
      ],
      "execution_count": null,
      "outputs": []
    },
    {
      "cell_type": "code",
      "metadata": {
        "id": "Wb3uiueJbzRZ"
      },
      "source": [
        "# from keras.utils import to_categorical\n",
        "# labels = to_categorical(labels)\n",
        "# train_labels = train_labels.astype(\"float32\")/255\n",
        "# test_labels = test_labels.astype(\"float32\")/255"
      ],
      "execution_count": null,
      "outputs": []
    },
    {
      "cell_type": "code",
      "metadata": {
        "id": "ONIp8Jea3DbZ"
      },
      "source": [
        "from keras.utils import to_categorical\n",
        "train_labels = to_categorical(train_labels)\n",
        "test_labels = to_categorical(test_labels)"
      ],
      "execution_count": null,
      "outputs": []
    },
    {
      "cell_type": "code",
      "metadata": {
        "colab": {
          "base_uri": "https://localhost:8080/"
        },
        "id": "SJrsaCD1R5tn",
        "outputId": "7f8a20ff-f7f9-4261-c0e3-a6f18b18ec7a"
      },
      "source": [
        "train_data.shape"
      ],
      "execution_count": null,
      "outputs": [
        {
          "output_type": "execute_result",
          "data": {
            "text/plain": [
              "(2593, 2500)"
            ]
          },
          "metadata": {
            "tags": []
          },
          "execution_count": 41
        }
      ]
    },
    {
      "cell_type": "code",
      "metadata": {
        "colab": {
          "base_uri": "https://localhost:8080/"
        },
        "id": "Ghkakoz16NAc",
        "outputId": "4535ea8c-2a4b-4042-874e-1af515c60dd2"
      },
      "source": [
        "test_data.shape"
      ],
      "execution_count": null,
      "outputs": [
        {
          "output_type": "execute_result",
          "data": {
            "text/plain": [
              "(1730, 2500)"
            ]
          },
          "metadata": {
            "tags": []
          },
          "execution_count": 42
        }
      ]
    },
    {
      "cell_type": "code",
      "metadata": {
        "colab": {
          "base_uri": "https://localhost:8080/"
        },
        "id": "PvtyGZl16QN7",
        "outputId": "854f8133-2544-4a50-a54b-4bcb570061bf"
      },
      "source": [
        "train_labels.shape"
      ],
      "execution_count": null,
      "outputs": [
        {
          "output_type": "execute_result",
          "data": {
            "text/plain": [
              "(2593, 5)"
            ]
          },
          "metadata": {
            "tags": []
          },
          "execution_count": 43
        }
      ]
    },
    {
      "cell_type": "code",
      "metadata": {
        "colab": {
          "base_uri": "https://localhost:8080/"
        },
        "id": "RDlo-P126Tjz",
        "outputId": "2fdc1da9-b7e3-4dd8-defe-85a175fdd106"
      },
      "source": [
        "test_labels.shape"
      ],
      "execution_count": null,
      "outputs": [
        {
          "output_type": "execute_result",
          "data": {
            "text/plain": [
              "(1730, 5)"
            ]
          },
          "metadata": {
            "tags": []
          },
          "execution_count": 44
        }
      ]
    },
    {
      "cell_type": "code",
      "metadata": {
        "id": "-xechl_HVDZE"
      },
      "source": [
        "data"
      ],
      "execution_count": null,
      "outputs": []
    },
    {
      "cell_type": "markdown",
      "metadata": {
        "id": "Qk-PXxchQt-n"
      },
      "source": [
        "## **Split**"
      ]
    },
    {
      "cell_type": "code",
      "metadata": {
        "id": "27WFdRBc_wf7"
      },
      "source": [
        "#Split into 60 and 40 ratio.\n",
        "# train_images, test_images, val_images = np.split(data, [int(.6*len(data)), int(.8*len(data))])\n",
        "# train_labels, test_labels, val_labels = np.split(labels, [int(.6*len(labels)), int(.8*len(labels))])"
      ],
      "execution_count": null,
      "outputs": []
    },
    {
      "cell_type": "code",
      "metadata": {
        "id": "8s6g2AQ9fDG4"
      },
      "source": [
        "#train_labels_cat, test_labels_cat, val_labels_cat = np.split(labels_cat, [int(.6*len(labels_cat)), int(.8*len(labels_cat))])"
      ],
      "execution_count": null,
      "outputs": []
    },
    {
      "cell_type": "markdown",
      "metadata": {
        "id": "Di2yauXbVY9c"
      },
      "source": [
        "## **Create Model**"
      ]
    },
    {
      "cell_type": "code",
      "metadata": {
        "id": "Px7x8-tgVOVj"
      },
      "source": [
        "# network = models.Sequential()\n",
        "# network.add(layers.Dense(10, activation='relu', input_shape=(150, 150,1, )))\n",
        "# #network.add(layers.Dense(8, activation='relu'))\n",
        "# network.add(layers.Dense(5, activation='softmax'))\n",
        "\n",
        "model=models.Sequential()\n",
        "model.add(layers.Dense(64, activation=\"relu\", input_shape=(2500,)))\n",
        "# model.add(layers.Dense(64, activation = \"relu\" ))\n",
        "# model.add(layers.Dense(32, activation = \"relu\" ))\n",
        "model.add(layers.Dense(5, activation=\"softmax\"))\n",
        "model.compile(optimizer=\"rmsprop\", loss = \"categorical_crossentropy\", metrics=[\"accuracy\"])"
      ],
      "execution_count": null,
      "outputs": []
    },
    {
      "cell_type": "markdown",
      "metadata": {
        "id": "pUQ62RshYi70"
      },
      "source": [
        "## **Compilation Step**"
      ]
    },
    {
      "cell_type": "code",
      "metadata": {
        "id": "shMjhFLsV1cL"
      },
      "source": [
        "network.summary()"
      ],
      "execution_count": null,
      "outputs": []
    },
    {
      "cell_type": "code",
      "metadata": {
        "id": "5EOpLI8wYpO5"
      },
      "source": [
        "# network.compile(optimizer='rmsprop', loss='categorical_crossentropy', metrics=['accuracy'])"
      ],
      "execution_count": null,
      "outputs": []
    },
    {
      "cell_type": "markdown",
      "metadata": {
        "id": "ETNTYXOfxp7s"
      },
      "source": [
        "## **Train the Model**"
      ]
    },
    {
      "cell_type": "code",
      "metadata": {
        "id": "isAcjqXAoIiU"
      },
      "source": [
        "val_data = train_data[2000:]\n",
        "val_labels = train_labels[2000:]"
      ],
      "execution_count": null,
      "outputs": []
    },
    {
      "cell_type": "code",
      "metadata": {
        "colab": {
          "base_uri": "https://localhost:8080/"
        },
        "id": "ASnRko15n2EB",
        "outputId": "43781d7e-fa29-41a4-fe68-308921e25dc3"
      },
      "source": [
        "history = model.fit(train_data, train_labels, validation_data = (val_data, val_labels), epochs= 100, batch_size=512, verbose=1)"
      ],
      "execution_count": null,
      "outputs": [
        {
          "output_type": "stream",
          "text": [
            "Epoch 1/100\n",
            "6/6 [==============================] - 1s 57ms/step - loss: 1.6069 - accuracy: 0.2108 - val_loss: 1.5995 - val_accuracy: 0.2884\n",
            "Epoch 2/100\n",
            "6/6 [==============================] - 0s 21ms/step - loss: 1.6008 - accuracy: 0.2736 - val_loss: 1.5939 - val_accuracy: 0.2867\n",
            "Epoch 3/100\n",
            "6/6 [==============================] - 0s 20ms/step - loss: 1.5947 - accuracy: 0.2830 - val_loss: 1.5920 - val_accuracy: 0.3272\n",
            "Epoch 4/100\n",
            "6/6 [==============================] - 0s 18ms/step - loss: 1.5930 - accuracy: 0.3114 - val_loss: 1.5885 - val_accuracy: 0.2698\n",
            "Epoch 5/100\n",
            "6/6 [==============================] - 0s 17ms/step - loss: 1.5919 - accuracy: 0.2689 - val_loss: 1.5876 - val_accuracy: 0.3255\n",
            "Epoch 6/100\n",
            "6/6 [==============================] - 0s 17ms/step - loss: 1.5901 - accuracy: 0.2988 - val_loss: 1.5860 - val_accuracy: 0.2917\n",
            "Epoch 7/100\n",
            "6/6 [==============================] - 0s 20ms/step - loss: 1.5880 - accuracy: 0.3069 - val_loss: 1.5821 - val_accuracy: 0.3288\n",
            "Epoch 8/100\n",
            "6/6 [==============================] - 0s 20ms/step - loss: 1.5842 - accuracy: 0.3140 - val_loss: 1.5808 - val_accuracy: 0.2951\n",
            "Epoch 9/100\n",
            "6/6 [==============================] - 0s 20ms/step - loss: 1.5838 - accuracy: 0.2759 - val_loss: 1.5781 - val_accuracy: 0.3238\n",
            "Epoch 10/100\n",
            "6/6 [==============================] - 0s 17ms/step - loss: 1.5812 - accuracy: 0.3097 - val_loss: 1.5767 - val_accuracy: 0.3120\n",
            "Epoch 11/100\n",
            "6/6 [==============================] - 0s 20ms/step - loss: 1.5791 - accuracy: 0.3089 - val_loss: 1.5730 - val_accuracy: 0.3120\n",
            "Epoch 12/100\n",
            "6/6 [==============================] - 0s 19ms/step - loss: 1.5780 - accuracy: 0.2997 - val_loss: 1.5696 - val_accuracy: 0.3204\n",
            "Epoch 13/100\n",
            "6/6 [==============================] - 0s 20ms/step - loss: 1.5741 - accuracy: 0.2996 - val_loss: 1.5675 - val_accuracy: 0.3103\n",
            "Epoch 14/100\n",
            "6/6 [==============================] - 0s 21ms/step - loss: 1.5740 - accuracy: 0.2973 - val_loss: 1.5644 - val_accuracy: 0.3255\n",
            "Epoch 15/100\n",
            "6/6 [==============================] - 0s 20ms/step - loss: 1.5673 - accuracy: 0.3086 - val_loss: 1.5615 - val_accuracy: 0.2884\n",
            "Epoch 16/100\n",
            "6/6 [==============================] - 0s 17ms/step - loss: 1.5646 - accuracy: 0.2931 - val_loss: 1.5591 - val_accuracy: 0.3120\n",
            "Epoch 17/100\n",
            "6/6 [==============================] - 0s 18ms/step - loss: 1.5632 - accuracy: 0.2946 - val_loss: 1.5570 - val_accuracy: 0.2816\n",
            "Epoch 18/100\n",
            "6/6 [==============================] - 0s 19ms/step - loss: 1.5641 - accuracy: 0.2776 - val_loss: 1.5550 - val_accuracy: 0.3120\n",
            "Epoch 19/100\n",
            "6/6 [==============================] - 0s 19ms/step - loss: 1.5580 - accuracy: 0.3044 - val_loss: 1.5529 - val_accuracy: 0.3305\n",
            "Epoch 20/100\n",
            "6/6 [==============================] - 0s 20ms/step - loss: 1.5549 - accuracy: 0.3134 - val_loss: 1.5511 - val_accuracy: 0.3272\n",
            "Epoch 21/100\n",
            "6/6 [==============================] - 0s 20ms/step - loss: 1.5574 - accuracy: 0.3013 - val_loss: 1.5484 - val_accuracy: 0.3272\n",
            "Epoch 22/100\n",
            "6/6 [==============================] - 0s 20ms/step - loss: 1.5532 - accuracy: 0.3038 - val_loss: 1.5483 - val_accuracy: 0.3137\n",
            "Epoch 23/100\n",
            "6/6 [==============================] - 0s 19ms/step - loss: 1.5520 - accuracy: 0.3075 - val_loss: 1.5433 - val_accuracy: 0.3153\n",
            "Epoch 24/100\n",
            "6/6 [==============================] - 0s 17ms/step - loss: 1.5520 - accuracy: 0.3004 - val_loss: 1.5415 - val_accuracy: 0.3153\n",
            "Epoch 25/100\n",
            "6/6 [==============================] - 0s 18ms/step - loss: 1.5423 - accuracy: 0.3060 - val_loss: 1.5404 - val_accuracy: 0.3288\n",
            "Epoch 26/100\n",
            "6/6 [==============================] - 0s 22ms/step - loss: 1.5458 - accuracy: 0.3007 - val_loss: 1.5404 - val_accuracy: 0.3153\n",
            "Epoch 27/100\n",
            "6/6 [==============================] - 0s 21ms/step - loss: 1.5423 - accuracy: 0.3132 - val_loss: 1.5379 - val_accuracy: 0.3238\n",
            "Epoch 28/100\n",
            "6/6 [==============================] - 0s 20ms/step - loss: 1.5410 - accuracy: 0.3122 - val_loss: 1.5355 - val_accuracy: 0.3238\n",
            "Epoch 29/100\n",
            "6/6 [==============================] - 0s 17ms/step - loss: 1.5354 - accuracy: 0.3180 - val_loss: 1.5330 - val_accuracy: 0.3255\n",
            "Epoch 30/100\n",
            "6/6 [==============================] - 0s 19ms/step - loss: 1.5351 - accuracy: 0.3105 - val_loss: 1.5305 - val_accuracy: 0.3137\n",
            "Epoch 31/100\n",
            "6/6 [==============================] - 0s 19ms/step - loss: 1.5356 - accuracy: 0.3042 - val_loss: 1.5297 - val_accuracy: 0.3339\n",
            "Epoch 32/100\n",
            "6/6 [==============================] - 0s 18ms/step - loss: 1.5340 - accuracy: 0.3098 - val_loss: 1.5281 - val_accuracy: 0.3272\n",
            "Epoch 33/100\n",
            "6/6 [==============================] - 0s 17ms/step - loss: 1.5284 - accuracy: 0.3095 - val_loss: 1.5255 - val_accuracy: 0.3137\n",
            "Epoch 34/100\n",
            "6/6 [==============================] - 0s 22ms/step - loss: 1.5260 - accuracy: 0.3121 - val_loss: 1.5234 - val_accuracy: 0.3170\n",
            "Epoch 35/100\n",
            "6/6 [==============================] - 0s 20ms/step - loss: 1.5297 - accuracy: 0.3125 - val_loss: 1.5238 - val_accuracy: 0.3272\n",
            "Epoch 36/100\n",
            "6/6 [==============================] - 0s 18ms/step - loss: 1.5221 - accuracy: 0.3111 - val_loss: 1.5212 - val_accuracy: 0.3373\n",
            "Epoch 37/100\n",
            "6/6 [==============================] - 0s 19ms/step - loss: 1.5212 - accuracy: 0.3139 - val_loss: 1.5197 - val_accuracy: 0.3255\n",
            "Epoch 38/100\n",
            "6/6 [==============================] - 0s 18ms/step - loss: 1.5293 - accuracy: 0.3018 - val_loss: 1.5209 - val_accuracy: 0.3356\n",
            "Epoch 39/100\n",
            "6/6 [==============================] - 0s 17ms/step - loss: 1.5212 - accuracy: 0.3200 - val_loss: 1.5173 - val_accuracy: 0.3272\n",
            "Epoch 40/100\n",
            "6/6 [==============================] - 0s 21ms/step - loss: 1.5185 - accuracy: 0.3094 - val_loss: 1.5151 - val_accuracy: 0.3272\n",
            "Epoch 41/100\n",
            "6/6 [==============================] - 0s 21ms/step - loss: 1.5157 - accuracy: 0.3168 - val_loss: 1.5132 - val_accuracy: 0.3440\n",
            "Epoch 42/100\n",
            "6/6 [==============================] - 0s 18ms/step - loss: 1.5136 - accuracy: 0.3192 - val_loss: 1.5126 - val_accuracy: 0.3288\n",
            "Epoch 43/100\n",
            "6/6 [==============================] - 0s 18ms/step - loss: 1.5094 - accuracy: 0.3207 - val_loss: 1.5113 - val_accuracy: 0.3356\n",
            "Epoch 44/100\n",
            "6/6 [==============================] - 0s 20ms/step - loss: 1.5175 - accuracy: 0.3125 - val_loss: 1.5093 - val_accuracy: 0.3255\n",
            "Epoch 45/100\n",
            "6/6 [==============================] - 0s 20ms/step - loss: 1.5057 - accuracy: 0.3157 - val_loss: 1.5092 - val_accuracy: 0.3440\n",
            "Epoch 46/100\n",
            "6/6 [==============================] - 0s 20ms/step - loss: 1.5075 - accuracy: 0.3235 - val_loss: 1.5107 - val_accuracy: 0.3474\n",
            "Epoch 47/100\n",
            "6/6 [==============================] - 0s 20ms/step - loss: 1.5087 - accuracy: 0.3199 - val_loss: 1.5101 - val_accuracy: 0.3457\n",
            "Epoch 48/100\n",
            "6/6 [==============================] - 0s 18ms/step - loss: 1.5098 - accuracy: 0.3307 - val_loss: 1.5065 - val_accuracy: 0.3541\n",
            "Epoch 49/100\n",
            "6/6 [==============================] - 0s 17ms/step - loss: 1.5054 - accuracy: 0.3235 - val_loss: 1.5066 - val_accuracy: 0.3491\n",
            "Epoch 50/100\n",
            "6/6 [==============================] - 0s 17ms/step - loss: 1.5035 - accuracy: 0.3269 - val_loss: 1.5067 - val_accuracy: 0.3474\n",
            "Epoch 51/100\n",
            "6/6 [==============================] - 0s 20ms/step - loss: 1.5015 - accuracy: 0.3311 - val_loss: 1.5057 - val_accuracy: 0.3457\n",
            "Epoch 52/100\n",
            "6/6 [==============================] - 0s 19ms/step - loss: 1.5080 - accuracy: 0.3226 - val_loss: 1.5028 - val_accuracy: 0.3406\n",
            "Epoch 53/100\n",
            "6/6 [==============================] - 0s 19ms/step - loss: 1.5058 - accuracy: 0.3198 - val_loss: 1.5083 - val_accuracy: 0.3491\n",
            "Epoch 54/100\n",
            "6/6 [==============================] - 0s 19ms/step - loss: 1.5044 - accuracy: 0.3240 - val_loss: 1.5066 - val_accuracy: 0.3508\n",
            "Epoch 55/100\n",
            "6/6 [==============================] - 0s 20ms/step - loss: 1.5076 - accuracy: 0.3118 - val_loss: 1.5075 - val_accuracy: 0.3457\n",
            "Epoch 56/100\n",
            "6/6 [==============================] - 0s 20ms/step - loss: 1.5038 - accuracy: 0.3274 - val_loss: 1.5007 - val_accuracy: 0.3491\n",
            "Epoch 57/100\n",
            "6/6 [==============================] - 0s 20ms/step - loss: 1.5055 - accuracy: 0.3305 - val_loss: 1.5007 - val_accuracy: 0.3423\n",
            "Epoch 58/100\n",
            "6/6 [==============================] - 0s 19ms/step - loss: 1.5006 - accuracy: 0.3308 - val_loss: 1.5014 - val_accuracy: 0.3491\n",
            "Epoch 59/100\n",
            "6/6 [==============================] - 0s 19ms/step - loss: 1.4945 - accuracy: 0.3410 - val_loss: 1.5019 - val_accuracy: 0.3508\n",
            "Epoch 60/100\n",
            "6/6 [==============================] - 0s 19ms/step - loss: 1.4983 - accuracy: 0.3308 - val_loss: 1.5064 - val_accuracy: 0.3491\n",
            "Epoch 61/100\n",
            "6/6 [==============================] - 0s 19ms/step - loss: 1.5039 - accuracy: 0.3204 - val_loss: 1.5045 - val_accuracy: 0.3491\n",
            "Epoch 62/100\n",
            "6/6 [==============================] - 0s 20ms/step - loss: 1.4971 - accuracy: 0.3266 - val_loss: 1.4987 - val_accuracy: 0.3558\n",
            "Epoch 63/100\n",
            "6/6 [==============================] - 0s 20ms/step - loss: 1.5015 - accuracy: 0.3299 - val_loss: 1.4995 - val_accuracy: 0.3541\n",
            "Epoch 64/100\n",
            "6/6 [==============================] - 0s 21ms/step - loss: 1.4989 - accuracy: 0.3342 - val_loss: 1.4986 - val_accuracy: 0.3693\n",
            "Epoch 65/100\n",
            "6/6 [==============================] - 0s 20ms/step - loss: 1.4955 - accuracy: 0.3362 - val_loss: 1.4956 - val_accuracy: 0.3575\n",
            "Epoch 66/100\n",
            "6/6 [==============================] - 0s 20ms/step - loss: 1.4908 - accuracy: 0.3357 - val_loss: 1.4945 - val_accuracy: 0.3524\n",
            "Epoch 67/100\n",
            "6/6 [==============================] - 0s 21ms/step - loss: 1.4917 - accuracy: 0.3355 - val_loss: 1.4936 - val_accuracy: 0.3457\n",
            "Epoch 68/100\n",
            "6/6 [==============================] - 0s 21ms/step - loss: 1.4941 - accuracy: 0.3301 - val_loss: 1.4949 - val_accuracy: 0.3592\n",
            "Epoch 69/100\n",
            "6/6 [==============================] - 0s 20ms/step - loss: 1.4942 - accuracy: 0.3314 - val_loss: 1.4951 - val_accuracy: 0.3558\n",
            "Epoch 70/100\n",
            "6/6 [==============================] - 0s 21ms/step - loss: 1.4996 - accuracy: 0.3342 - val_loss: 1.4959 - val_accuracy: 0.3491\n",
            "Epoch 71/100\n",
            "6/6 [==============================] - 0s 22ms/step - loss: 1.4970 - accuracy: 0.3371 - val_loss: 1.4935 - val_accuracy: 0.3541\n",
            "Epoch 72/100\n",
            "6/6 [==============================] - 0s 20ms/step - loss: 1.4988 - accuracy: 0.3277 - val_loss: 1.4947 - val_accuracy: 0.3642\n",
            "Epoch 73/100\n",
            "6/6 [==============================] - 0s 20ms/step - loss: 1.4885 - accuracy: 0.3415 - val_loss: 1.4930 - val_accuracy: 0.3626\n",
            "Epoch 74/100\n",
            "6/6 [==============================] - 0s 23ms/step - loss: 1.4888 - accuracy: 0.3514 - val_loss: 1.4953 - val_accuracy: 0.3659\n",
            "Epoch 75/100\n",
            "6/6 [==============================] - 0s 20ms/step - loss: 1.4899 - accuracy: 0.3454 - val_loss: 1.4998 - val_accuracy: 0.3541\n",
            "Epoch 76/100\n",
            "6/6 [==============================] - 0s 17ms/step - loss: 1.4946 - accuracy: 0.3393 - val_loss: 1.4926 - val_accuracy: 0.3676\n",
            "Epoch 77/100\n",
            "6/6 [==============================] - 0s 21ms/step - loss: 1.4827 - accuracy: 0.3450 - val_loss: 1.4893 - val_accuracy: 0.3592\n",
            "Epoch 78/100\n",
            "6/6 [==============================] - 0s 20ms/step - loss: 1.4909 - accuracy: 0.3429 - val_loss: 1.4899 - val_accuracy: 0.3592\n",
            "Epoch 79/100\n",
            "6/6 [==============================] - 0s 23ms/step - loss: 1.4870 - accuracy: 0.3421 - val_loss: 1.4929 - val_accuracy: 0.3575\n",
            "Epoch 80/100\n",
            "6/6 [==============================] - 0s 21ms/step - loss: 1.4897 - accuracy: 0.3394 - val_loss: 1.4942 - val_accuracy: 0.3592\n",
            "Epoch 81/100\n",
            "6/6 [==============================] - 0s 20ms/step - loss: 1.4791 - accuracy: 0.3598 - val_loss: 1.4910 - val_accuracy: 0.3727\n",
            "Epoch 82/100\n",
            "6/6 [==============================] - 0s 20ms/step - loss: 1.4895 - accuracy: 0.3481 - val_loss: 1.4927 - val_accuracy: 0.3592\n",
            "Epoch 83/100\n",
            "6/6 [==============================] - 0s 18ms/step - loss: 1.4808 - accuracy: 0.3556 - val_loss: 1.4899 - val_accuracy: 0.3727\n",
            "Epoch 84/100\n",
            "6/6 [==============================] - 0s 17ms/step - loss: 1.4907 - accuracy: 0.3466 - val_loss: 1.4883 - val_accuracy: 0.3727\n",
            "Epoch 85/100\n",
            "6/6 [==============================] - 0s 19ms/step - loss: 1.4808 - accuracy: 0.3519 - val_loss: 1.4862 - val_accuracy: 0.3508\n",
            "Epoch 86/100\n",
            "6/6 [==============================] - 0s 18ms/step - loss: 1.4863 - accuracy: 0.3386 - val_loss: 1.4887 - val_accuracy: 0.3676\n",
            "Epoch 87/100\n",
            "6/6 [==============================] - 0s 20ms/step - loss: 1.4900 - accuracy: 0.3372 - val_loss: 1.4846 - val_accuracy: 0.3676\n",
            "Epoch 88/100\n",
            "6/6 [==============================] - 0s 20ms/step - loss: 1.4846 - accuracy: 0.3422 - val_loss: 1.4853 - val_accuracy: 0.3541\n",
            "Epoch 89/100\n",
            "6/6 [==============================] - 0s 19ms/step - loss: 1.4906 - accuracy: 0.3450 - val_loss: 1.4847 - val_accuracy: 0.3626\n",
            "Epoch 90/100\n",
            "6/6 [==============================] - 0s 20ms/step - loss: 1.4844 - accuracy: 0.3460 - val_loss: 1.4841 - val_accuracy: 0.3626\n",
            "Epoch 91/100\n",
            "6/6 [==============================] - 0s 20ms/step - loss: 1.4774 - accuracy: 0.3468 - val_loss: 1.4854 - val_accuracy: 0.3727\n",
            "Epoch 92/100\n",
            "6/6 [==============================] - 0s 20ms/step - loss: 1.4839 - accuracy: 0.3544 - val_loss: 1.4833 - val_accuracy: 0.3558\n",
            "Epoch 93/100\n",
            "6/6 [==============================] - 0s 21ms/step - loss: 1.4808 - accuracy: 0.3443 - val_loss: 1.4853 - val_accuracy: 0.3626\n",
            "Epoch 94/100\n",
            "6/6 [==============================] - 0s 22ms/step - loss: 1.4857 - accuracy: 0.3438 - val_loss: 1.4834 - val_accuracy: 0.3777\n",
            "Epoch 95/100\n",
            "6/6 [==============================] - 0s 19ms/step - loss: 1.4820 - accuracy: 0.3522 - val_loss: 1.4865 - val_accuracy: 0.3744\n",
            "Epoch 96/100\n",
            "6/6 [==============================] - 0s 21ms/step - loss: 1.4853 - accuracy: 0.3532 - val_loss: 1.4813 - val_accuracy: 0.3626\n",
            "Epoch 97/100\n",
            "6/6 [==============================] - 0s 21ms/step - loss: 1.4810 - accuracy: 0.3514 - val_loss: 1.4814 - val_accuracy: 0.3676\n",
            "Epoch 98/100\n",
            "6/6 [==============================] - 0s 18ms/step - loss: 1.4848 - accuracy: 0.3483 - val_loss: 1.4828 - val_accuracy: 0.3727\n",
            "Epoch 99/100\n",
            "6/6 [==============================] - 0s 20ms/step - loss: 1.4774 - accuracy: 0.3572 - val_loss: 1.4817 - val_accuracy: 0.3727\n",
            "Epoch 100/100\n",
            "6/6 [==============================] - 0s 18ms/step - loss: 1.4768 - accuracy: 0.3526 - val_loss: 1.4816 - val_accuracy: 0.3440\n"
          ],
          "name": "stdout"
        }
      ]
    },
    {
      "cell_type": "code",
      "metadata": {
        "colab": {
          "base_uri": "https://localhost:8080/"
        },
        "id": "_s3ccjVvz6-N",
        "outputId": "03aba2a4-28da-43f0-f76e-842c41a5fea7"
      },
      "source": [
        "# tf.reshape(train_images, (150, 150))\n",
        "\n",
        "# # Set input shape\n",
        "# sample_shape = train_images[0].shape\n",
        "# img_width, img_height = sample_shape[0], sample_shape[1]\n",
        "# input_shape = (img_width, img_height, 1)\n",
        "# print(input_shape)\n",
        "\n",
        "# sample_shape = train_images[0].shape\n",
        "# img_width, img_height = sample_shape[0], sample_shape[1]\n",
        "# input_shape = (img_width, img_height, 1)\n",
        "\n",
        "# # Reshape data \n",
        "# train_images_1 = train_images.reshape(len(train_images), input_shape[0], input_shape[1], input_shape[2])\n",
        "# #train_labels_1  = train_labels.reshape(len(train_labels), input_shape[0], input_shape[1], input_shape[2])\n"
      ],
      "execution_count": null,
      "outputs": [
        {
          "output_type": "stream",
          "text": [
            "(150, 150, 1)\n"
          ],
          "name": "stdout"
        }
      ]
    },
    {
      "cell_type": "code",
      "metadata": {
        "colab": {
          "base_uri": "https://localhost:8080/"
        },
        "id": "K7tOs2eQFhfO",
        "outputId": "9c3882a8-7a52-4f4a-d2d9-82fdb9167b14"
      },
      "source": [
        "history.history.keys()"
      ],
      "execution_count": null,
      "outputs": [
        {
          "output_type": "execute_result",
          "data": {
            "text/plain": [
              "dict_keys(['loss', 'accuracy', 'val_loss', 'val_accuracy'])"
            ]
          },
          "metadata": {
            "tags": []
          },
          "execution_count": 55
        }
      ]
    },
    {
      "cell_type": "code",
      "metadata": {
        "id": "a2ijOk9ZZf1j",
        "colab": {
          "base_uri": "https://localhost:8080/"
        },
        "outputId": "00b09e5d-9e60-4826-cebf-0ac100b57b4b"
      },
      "source": [
        "print(history.history['accuracy'])\n",
        "print(history.history['loss'])\n",
        "print(history.history['val_accuracy'])\n",
        "print(history.history['val_loss'])"
      ],
      "execution_count": null,
      "outputs": [
        {
          "output_type": "stream",
          "text": [
            "[0.22097955644130707, 0.27188584208488464, 0.2822985053062439, 0.30389511585235596, 0.280755877494812, 0.29965290427207947, 0.3062090277671814, 0.31083688139915466, 0.2741997539997101, 0.30967989563941956, 0.30852293968200684, 0.30312380194664, 0.3062090277671814, 0.30428075790405273, 0.3065946698188782, 0.29001155495643616, 0.29541072249412537, 0.28461241722106934, 0.30582335591316223, 0.30543771386146545, 0.3062090277671814, 0.30582335591316223, 0.3100655674934387, 0.30428075790405273, 0.30312380194664, 0.3073659837245941, 0.31237947940826416, 0.3143077492713928, 0.3073659837245941, 0.3092942535877228, 0.3073659837245941, 0.31122252345085144, 0.31083688139915466, 0.3077516257762909, 0.3135364353656769, 0.3100655674934387, 0.3127651512622833, 0.3100655674934387, 0.31507906317710876, 0.3119938373565674, 0.3170073330402374, 0.3131507933139801, 0.3170073330402374, 0.31970691680908203, 0.3146933913230896, 0.3204782009124756, 0.3231777846813202, 0.3216351568698883, 0.3231777846813202, 0.3247204124927521, 0.3243347406387329, 0.32356342673301697, 0.32202082872390747, 0.3258773684501648, 0.3270343244075775, 0.32510605454444885, 0.32780563831329346, 0.32549169659614563, 0.33513304591178894, 0.3316621780395508, 0.32780563831329346, 0.3270343244075775, 0.33243346214294434, 0.3339760899543762, 0.33783262968063354, 0.33243346214294434, 0.33243346214294434, 0.33243346214294434, 0.33513304591178894, 0.3370613157749176, 0.340146541595459, 0.3370613157749176, 0.340146541595459, 0.34361743927001953, 0.34477439522743225, 0.3366756737232208, 0.34053221344947815, 0.3386039435863495, 0.34516003727912903, 0.3382182717323303, 0.3455457091331482, 0.3428461253643036, 0.3470883071422577, 0.34477439522743225, 0.34323176741600037, 0.34168916940689087, 0.34361743927001953, 0.34361743927001953, 0.34631699323654175, 0.34747397899627686, 0.3428461253643036, 0.3486309349536896, 0.3497878909111023, 0.34785962104797363, 0.3482452630996704, 0.3536444306373596, 0.34747397899627686, 0.3513305187225342, 0.35210180282592773, 0.350944846868515]\n",
            "[1.6057847738265991, 1.5994027853012085, 1.5955939292907715, 1.5936567783355713, 1.5915288925170898, 1.589829683303833, 1.587221622467041, 1.5848420858383179, 1.5832576751708984, 1.5803028345108032, 1.5783716440200806, 1.5759094953536987, 1.5732697248458862, 1.5705677270889282, 1.5681051015853882, 1.5660765171051025, 1.5631599426269531, 1.561834692955017, 1.5593374967575073, 1.557008147239685, 1.5546387434005737, 1.5524004697799683, 1.5509674549102783, 1.5477482080459595, 1.5456730127334595, 1.5436785221099854, 1.5422853231430054, 1.5397186279296875, 1.5372883081436157, 1.5356523990631104, 1.5339276790618896, 1.5317705869674683, 1.5301234722137451, 1.5288424491882324, 1.5273946523666382, 1.525156855583191, 1.5236414670944214, 1.521599531173706, 1.5201326608657837, 1.518373966217041, 1.517201542854309, 1.5151945352554321, 1.5141706466674805, 1.5134100914001465, 1.511910080909729, 1.5105855464935303, 1.509576678276062, 1.508657693862915, 1.5076590776443481, 1.5069888830184937, 1.5070163011550903, 1.50556218624115, 1.5043387413024902, 1.5050034523010254, 1.5034133195877075, 1.5032963752746582, 1.5014126300811768, 1.5017346143722534, 1.5010204315185547, 1.4997953176498413, 1.5003597736358643, 1.4995063543319702, 1.4984742403030396, 1.4978983402252197, 1.4970606565475464, 1.4964687824249268, 1.4960675239562988, 1.4957504272460938, 1.494232177734375, 1.4945462942123413, 1.4937593936920166, 1.493121862411499, 1.4930200576782227, 1.4920953512191772, 1.491443157196045, 1.4922140836715698, 1.4905176162719727, 1.4898699522018433, 1.4893382787704468, 1.4890902042388916, 1.4891635179519653, 1.4883006811141968, 1.4880955219268799, 1.4873491525650024, 1.486755609512329, 1.486733317375183, 1.4859017133712769, 1.485589623451233, 1.4851770401000977, 1.485070824623108, 1.4837249517440796, 1.483688473701477, 1.4836740493774414, 1.4832193851470947, 1.4823455810546875, 1.4823116064071655, 1.4817311763763428, 1.481336236000061, 1.4812755584716797, 1.4805948734283447]\n",
            "[0.2883642613887787, 0.28667789697647095, 0.3271500766277313, 0.26981449127197266, 0.32546374201774597, 0.2917369306087494, 0.3288364112377167, 0.2951095998287201, 0.3237774074077606, 0.3119730055332184, 0.3119730055332184, 0.32040470838546753, 0.31028667092323303, 0.32546374201774597, 0.2883642613887787, 0.3119730055332184, 0.2816188931465149, 0.3119730055332184, 0.3305227756500244, 0.3271500766277313, 0.3271500766277313, 0.3136593699455261, 0.3153457045555115, 0.3153457045555115, 0.3288364112377167, 0.3153457045555115, 0.3237774074077606, 0.3237774074077606, 0.32546374201774597, 0.3136593699455261, 0.3338954448699951, 0.3271500766277313, 0.3136593699455261, 0.3170320391654968, 0.3271500766277313, 0.3372681140899658, 0.32546374201774597, 0.33558177947998047, 0.3271500766277313, 0.3271500766277313, 0.3440134823322296, 0.3288364112377167, 0.33558177947998047, 0.32546374201774597, 0.3440134823322296, 0.3473861813545227, 0.34569981694221497, 0.3541315197944641, 0.34907251596450806, 0.3473861813545227, 0.34569981694221497, 0.3406408131122589, 0.34907251596450806, 0.3507588505744934, 0.34569981694221497, 0.34907251596450806, 0.34232714772224426, 0.34907251596450806, 0.3507588505744934, 0.34907251596450806, 0.34907251596450806, 0.35581788420677185, 0.3541315197944641, 0.36930859088897705, 0.3575042188167572, 0.35244518518447876, 0.34569981694221497, 0.35919055342674255, 0.35581788420677185, 0.34907251596450806, 0.3541315197944641, 0.364249587059021, 0.36256325244903564, 0.36593592166900635, 0.3541315197944641, 0.3676222562789917, 0.35919055342674255, 0.35919055342674255, 0.3575042188167572, 0.35919055342674255, 0.37268128991127014, 0.35919055342674255, 0.37268128991127014, 0.37268128991127014, 0.3507588505744934, 0.3676222562789917, 0.3676222562789917, 0.3541315197944641, 0.36256325244903564, 0.36256325244903564, 0.37268128991127014, 0.35581788420677185, 0.36256325244903564, 0.3777402937412262, 0.3743676245212555, 0.36256325244903564, 0.3676222562789917, 0.37268128991127014, 0.37268128991127014, 0.3440134823322296]\n",
            "[1.599526047706604, 1.59392249584198, 1.5919644832611084, 1.588530421257019, 1.5875896215438843, 1.5860285758972168, 1.5820609331130981, 1.580750823020935, 1.578147053718567, 1.5766568183898926, 1.5730187892913818, 1.5696228742599487, 1.5675171613693237, 1.564404010772705, 1.5615289211273193, 1.5591404438018799, 1.556983470916748, 1.5550239086151123, 1.552941083908081, 1.5510642528533936, 1.548404574394226, 1.5482521057128906, 1.5432771444320679, 1.5415480136871338, 1.540423035621643, 1.5404129028320312, 1.5379115343093872, 1.5354975461959839, 1.5330034494400024, 1.5305317640304565, 1.529731273651123, 1.5281130075454712, 1.5255016088485718, 1.5234304666519165, 1.5238251686096191, 1.5211796760559082, 1.5196573734283447, 1.5208896398544312, 1.5172805786132812, 1.515103816986084, 1.513166069984436, 1.5125921964645386, 1.5112730264663696, 1.509279489517212, 1.5092394351959229, 1.5107322931289673, 1.510085940361023, 1.5065191984176636, 1.5065948963165283, 1.5066667795181274, 1.505699872970581, 1.5027799606323242, 1.5082789659500122, 1.5065503120422363, 1.50754976272583, 1.5007110834121704, 1.5007350444793701, 1.5013601779937744, 1.5018779039382935, 1.5063869953155518, 1.5045204162597656, 1.4987074136734009, 1.4995436668395996, 1.4985954761505127, 1.4956278800964355, 1.4944995641708374, 1.4936121702194214, 1.4948952198028564, 1.4950623512268066, 1.495854377746582, 1.4934866428375244, 1.4946871995925903, 1.493025541305542, 1.4953484535217285, 1.4997975826263428, 1.4926471710205078, 1.4893410205841064, 1.4899049997329712, 1.492920160293579, 1.4942293167114258, 1.4909818172454834, 1.4926942586898804, 1.4899076223373413, 1.4883103370666504, 1.4862399101257324, 1.4887468814849854, 1.4845651388168335, 1.4852538108825684, 1.4847410917282104, 1.4841185808181763, 1.4853628873825073, 1.4833076000213623, 1.4852948188781738, 1.483367919921875, 1.4864516258239746, 1.4813449382781982, 1.4814399480819702, 1.4827970266342163, 1.4817452430725098, 1.4816160202026367]\n"
          ],
          "name": "stdout"
        }
      ]
    },
    {
      "cell_type": "code",
      "metadata": {
        "colab": {
          "base_uri": "https://localhost:8080/"
        },
        "id": "J0CEb0ZAFJNV",
        "outputId": "e6f8c078-e908-4e29-898e-2de599075c22"
      },
      "source": [
        "print(np.mean(history.history['accuracy']))\n",
        "print(np.mean(history.history['loss']))\n",
        "print(np.mean(history.history['val_accuracy']))\n",
        "print(np.mean(history.history['val_loss']))"
      ],
      "execution_count": null,
      "outputs": [
        {
          "output_type": "stream",
          "text": [
            "0.3219668333232403\n",
            "1.5202089750766754\n",
            "0.33993254482746127\n",
            "1.5185307037830353\n"
          ],
          "name": "stdout"
        }
      ]
    },
    {
      "cell_type": "code",
      "metadata": {
        "colab": {
          "base_uri": "https://localhost:8080/"
        },
        "id": "FfgPcJAaFvtC",
        "outputId": "cb433878-56e0-4c11-abe4-ef4e6aaaedad"
      },
      "source": [
        "loss_values = history.history['loss']\n",
        "print(loss_values)\n",
        "val_loss_values = history.history['val_loss']\n",
        "epochs = range(1, len(loss_values) + 1)"
      ],
      "execution_count": null,
      "outputs": [
        {
          "output_type": "stream",
          "text": [
            "[1.6057847738265991, 1.5994027853012085, 1.5955939292907715, 1.5936567783355713, 1.5915288925170898, 1.589829683303833, 1.587221622467041, 1.5848420858383179, 1.5832576751708984, 1.5803028345108032, 1.5783716440200806, 1.5759094953536987, 1.5732697248458862, 1.5705677270889282, 1.5681051015853882, 1.5660765171051025, 1.5631599426269531, 1.561834692955017, 1.5593374967575073, 1.557008147239685, 1.5546387434005737, 1.5524004697799683, 1.5509674549102783, 1.5477482080459595, 1.5456730127334595, 1.5436785221099854, 1.5422853231430054, 1.5397186279296875, 1.5372883081436157, 1.5356523990631104, 1.5339276790618896, 1.5317705869674683, 1.5301234722137451, 1.5288424491882324, 1.5273946523666382, 1.525156855583191, 1.5236414670944214, 1.521599531173706, 1.5201326608657837, 1.518373966217041, 1.517201542854309, 1.5151945352554321, 1.5141706466674805, 1.5134100914001465, 1.511910080909729, 1.5105855464935303, 1.509576678276062, 1.508657693862915, 1.5076590776443481, 1.5069888830184937, 1.5070163011550903, 1.50556218624115, 1.5043387413024902, 1.5050034523010254, 1.5034133195877075, 1.5032963752746582, 1.5014126300811768, 1.5017346143722534, 1.5010204315185547, 1.4997953176498413, 1.5003597736358643, 1.4995063543319702, 1.4984742403030396, 1.4978983402252197, 1.4970606565475464, 1.4964687824249268, 1.4960675239562988, 1.4957504272460938, 1.494232177734375, 1.4945462942123413, 1.4937593936920166, 1.493121862411499, 1.4930200576782227, 1.4920953512191772, 1.491443157196045, 1.4922140836715698, 1.4905176162719727, 1.4898699522018433, 1.4893382787704468, 1.4890902042388916, 1.4891635179519653, 1.4883006811141968, 1.4880955219268799, 1.4873491525650024, 1.486755609512329, 1.486733317375183, 1.4859017133712769, 1.485589623451233, 1.4851770401000977, 1.485070824623108, 1.4837249517440796, 1.483688473701477, 1.4836740493774414, 1.4832193851470947, 1.4823455810546875, 1.4823116064071655, 1.4817311763763428, 1.481336236000061, 1.4812755584716797, 1.4805948734283447]\n"
          ],
          "name": "stdout"
        }
      ]
    },
    {
      "cell_type": "code",
      "metadata": {
        "colab": {
          "base_uri": "https://localhost:8080/",
          "height": 295
        },
        "id": "eibq8ZuHF3zV",
        "outputId": "5d7f9caf-b2c9-413d-961f-2835ed243c72"
      },
      "source": [
        "plt.plot(epochs, loss_values, 'bo', label='Training Loss')\n",
        "plt.plot(epochs, val_loss_values, 'b', label='Validation Loss')\n",
        "plt.title('Training and validation loss')\n",
        "plt.xlabel('Epochs')\n",
        "plt.ylabel('Loss')\n",
        "plt.legend()\n",
        "plt.show()"
      ],
      "execution_count": null,
      "outputs": [
        {
          "output_type": "display_data",
          "data": {
            "image/png": "[encoded data removed]",
            "text/plain": [
              "<Figure size 432x288 with 1 Axes>"
            ]
          },
          "metadata": {
            "tags": [],
            "needs_background": "light"
          }
        }
      ]
    },
    {
      "cell_type": "code",
      "metadata": {
        "colab": {
          "base_uri": "https://localhost:8080/",
          "height": 88
        },
        "id": "TMoQ6D6zGJo-",
        "outputId": "62a9eb58-0b42-48e7-b004-0f14518f513f"
      },
      "source": [
        "plt.clf()\n",
        "acc_values = history.history['accuracy']\n",
        "print(acc_values)\n",
        "val_acc_values = history.history['val_accuracy']\n",
        "print(val_acc_values)"
      ],
      "execution_count": null,
      "outputs": [
        {
          "output_type": "stream",
          "text": [
            "[0.22097955644130707, 0.27188584208488464, 0.2822985053062439, 0.30389511585235596, 0.280755877494812, 0.29965290427207947, 0.3062090277671814, 0.31083688139915466, 0.2741997539997101, 0.30967989563941956, 0.30852293968200684, 0.30312380194664, 0.3062090277671814, 0.30428075790405273, 0.3065946698188782, 0.29001155495643616, 0.29541072249412537, 0.28461241722106934, 0.30582335591316223, 0.30543771386146545, 0.3062090277671814, 0.30582335591316223, 0.3100655674934387, 0.30428075790405273, 0.30312380194664, 0.3073659837245941, 0.31237947940826416, 0.3143077492713928, 0.3073659837245941, 0.3092942535877228, 0.3073659837245941, 0.31122252345085144, 0.31083688139915466, 0.3077516257762909, 0.3135364353656769, 0.3100655674934387, 0.3127651512622833, 0.3100655674934387, 0.31507906317710876, 0.3119938373565674, 0.3170073330402374, 0.3131507933139801, 0.3170073330402374, 0.31970691680908203, 0.3146933913230896, 0.3204782009124756, 0.3231777846813202, 0.3216351568698883, 0.3231777846813202, 0.3247204124927521, 0.3243347406387329, 0.32356342673301697, 0.32202082872390747, 0.3258773684501648, 0.3270343244075775, 0.32510605454444885, 0.32780563831329346, 0.32549169659614563, 0.33513304591178894, 0.3316621780395508, 0.32780563831329346, 0.3270343244075775, 0.33243346214294434, 0.3339760899543762, 0.33783262968063354, 0.33243346214294434, 0.33243346214294434, 0.33243346214294434, 0.33513304591178894, 0.3370613157749176, 0.340146541595459, 0.3370613157749176, 0.340146541595459, 0.34361743927001953, 0.34477439522743225, 0.3366756737232208, 0.34053221344947815, 0.3386039435863495, 0.34516003727912903, 0.3382182717323303, 0.3455457091331482, 0.3428461253643036, 0.3470883071422577, 0.34477439522743225, 0.34323176741600037, 0.34168916940689087, 0.34361743927001953, 0.34361743927001953, 0.34631699323654175, 0.34747397899627686, 0.3428461253643036, 0.3486309349536896, 0.3497878909111023, 0.34785962104797363, 0.3482452630996704, 0.3536444306373596, 0.34747397899627686, 0.3513305187225342, 0.35210180282592773, 0.350944846868515]\n",
            "[0.2883642613887787, 0.28667789697647095, 0.3271500766277313, 0.26981449127197266, 0.32546374201774597, 0.2917369306087494, 0.3288364112377167, 0.2951095998287201, 0.3237774074077606, 0.3119730055332184, 0.3119730055332184, 0.32040470838546753, 0.31028667092323303, 0.32546374201774597, 0.2883642613887787, 0.3119730055332184, 0.2816188931465149, 0.3119730055332184, 0.3305227756500244, 0.3271500766277313, 0.3271500766277313, 0.3136593699455261, 0.3153457045555115, 0.3153457045555115, 0.3288364112377167, 0.3153457045555115, 0.3237774074077606, 0.3237774074077606, 0.32546374201774597, 0.3136593699455261, 0.3338954448699951, 0.3271500766277313, 0.3136593699455261, 0.3170320391654968, 0.3271500766277313, 0.3372681140899658, 0.32546374201774597, 0.33558177947998047, 0.3271500766277313, 0.3271500766277313, 0.3440134823322296, 0.3288364112377167, 0.33558177947998047, 0.32546374201774597, 0.3440134823322296, 0.3473861813545227, 0.34569981694221497, 0.3541315197944641, 0.34907251596450806, 0.3473861813545227, 0.34569981694221497, 0.3406408131122589, 0.34907251596450806, 0.3507588505744934, 0.34569981694221497, 0.34907251596450806, 0.34232714772224426, 0.34907251596450806, 0.3507588505744934, 0.34907251596450806, 0.34907251596450806, 0.35581788420677185, 0.3541315197944641, 0.36930859088897705, 0.3575042188167572, 0.35244518518447876, 0.34569981694221497, 0.35919055342674255, 0.35581788420677185, 0.34907251596450806, 0.3541315197944641, 0.364249587059021, 0.36256325244903564, 0.36593592166900635, 0.3541315197944641, 0.3676222562789917, 0.35919055342674255, 0.35919055342674255, 0.3575042188167572, 0.35919055342674255, 0.37268128991127014, 0.35919055342674255, 0.37268128991127014, 0.37268128991127014, 0.3507588505744934, 0.3676222562789917, 0.3676222562789917, 0.3541315197944641, 0.36256325244903564, 0.36256325244903564, 0.37268128991127014, 0.35581788420677185, 0.36256325244903564, 0.3777402937412262, 0.3743676245212555, 0.36256325244903564, 0.3676222562789917, 0.37268128991127014, 0.37268128991127014, 0.3440134823322296]\n"
          ],
          "name": "stdout"
        },
        {
          "output_type": "display_data",
          "data": {
            "text/plain": [
              "<Figure size 432x288 with 0 Axes>"
            ]
          },
          "metadata": {
            "tags": []
          }
        }
      ]
    },
    {
      "cell_type": "code",
      "metadata": {
        "colab": {
          "base_uri": "https://localhost:8080/",
          "height": 295
        },
        "id": "6zsZgMSzGYYp",
        "outputId": "6bec65bc-27a1-4a84-c76a-ff389d17e23f"
      },
      "source": [
        "plt.plot(epochs, acc_values, 'bo', label='Training acc')\n",
        "plt.plot(epochs, val_acc_values, 'b', label='Validation acc')\n",
        "plt.title('Training and validation accuracy')\n",
        "plt.xlabel('Epochs')\n",
        "plt.ylabel('Loss')\n",
        "plt.legend()\n",
        "plt.show()"
      ],
      "execution_count": null,
      "outputs": [
        {
          "output_type": "display_data",
          "data": {
            "image/png": "[encoded data removed]",
            "text/plain": [
              "<Figure size 432x288 with 1 Axes>"
            ]
          },
          "metadata": {
            "tags": [],
            "needs_background": "light"
          }
        }
      ]
    },
    {
      "cell_type": "markdown",
      "metadata": {
        "id": "2eC9EV4RsxyV"
      },
      "source": [
        "## **Tune Model**"
      ]
    },
    {
      "cell_type": "code",
      "metadata": {
        "id": "fiKQawntHCmk"
      },
      "source": [
        "model=models.Sequential()\n",
        "model.add(layers.Dense(64, activation=\"relu\", input_shape=(2500,)))\n",
        "# model.add(layers.Dense(64, activation = \"relu\" ))\n",
        "# model.add(layers.Dense(32, activation = \"relu\" ))\n",
        "model.add(layers.Dense(5, activation=\"softmax\"))\n",
        "model.compile(optimizer=\"rmsprop\", loss = \"categorical_crossentropy\", metrics=[\"accuracy\"])"
      ],
      "execution_count": null,
      "outputs": []
    },
    {
      "cell_type": "markdown",
      "metadata": {
        "id": "xmJxatRLtAUg"
      },
      "source": [
        "## **Evaluate**"
      ]
    },
    {
      "cell_type": "code",
      "metadata": {
        "colab": {
          "base_uri": "https://localhost:8080/"
        },
        "id": "8JWiJp1sGrO0",
        "outputId": "4c7f1122-c41d-4701-c82e-8eff7c71c442"
      },
      "source": [
        "model.fit(train_data, train_labels, epochs= 20, batch_size=512, verbose=1)\n",
        "results = model.evaluate(val_data, val_labels)"
      ],
      "execution_count": null,
      "outputs": [
        {
          "output_type": "stream",
          "text": [
            "Epoch 1/20\n",
            "6/6 [==============================] - 1s 14ms/step - loss: 1.6066 - accuracy: 0.2122\n",
            "Epoch 2/20\n",
            "6/6 [==============================] - 0s 12ms/step - loss: 1.5975 - accuracy: 0.2982\n",
            "Epoch 3/20\n",
            "6/6 [==============================] - 0s 14ms/step - loss: 1.5955 - accuracy: 0.2720\n",
            "Epoch 4/20\n",
            "6/6 [==============================] - 0s 12ms/step - loss: 1.5906 - accuracy: 0.2998\n",
            "Epoch 5/20\n",
            "6/6 [==============================] - 0s 12ms/step - loss: 1.5890 - accuracy: 0.3109\n",
            "Epoch 6/20\n",
            "6/6 [==============================] - 0s 11ms/step - loss: 1.5869 - accuracy: 0.3045\n",
            "Epoch 7/20\n",
            "6/6 [==============================] - 0s 10ms/step - loss: 1.5862 - accuracy: 0.2855\n",
            "Epoch 8/20\n",
            "6/6 [==============================] - 0s 11ms/step - loss: 1.5818 - accuracy: 0.2925\n",
            "Epoch 9/20\n",
            "6/6 [==============================] - 0s 10ms/step - loss: 1.5817 - accuracy: 0.2793\n",
            "Epoch 10/20\n",
            "6/6 [==============================] - 0s 11ms/step - loss: 1.5783 - accuracy: 0.2793\n",
            "Epoch 11/20\n",
            "6/6 [==============================] - 0s 14ms/step - loss: 1.5770 - accuracy: 0.2959\n",
            "Epoch 12/20\n",
            "6/6 [==============================] - 0s 11ms/step - loss: 1.5739 - accuracy: 0.3005\n",
            "Epoch 13/20\n",
            "6/6 [==============================] - 0s 10ms/step - loss: 1.5705 - accuracy: 0.2849\n",
            "Epoch 14/20\n",
            "6/6 [==============================] - 0s 12ms/step - loss: 1.5672 - accuracy: 0.2994\n",
            "Epoch 15/20\n",
            "6/6 [==============================] - 0s 10ms/step - loss: 1.5629 - accuracy: 0.2955\n",
            "Epoch 16/20\n",
            "6/6 [==============================] - 0s 11ms/step - loss: 1.5622 - accuracy: 0.2948\n",
            "Epoch 17/20\n",
            "6/6 [==============================] - 0s 13ms/step - loss: 1.5613 - accuracy: 0.3087\n",
            "Epoch 18/20\n",
            "6/6 [==============================] - 0s 10ms/step - loss: 1.5585 - accuracy: 0.2936\n",
            "Epoch 19/20\n",
            "6/6 [==============================] - 0s 12ms/step - loss: 1.5544 - accuracy: 0.2935\n",
            "Epoch 20/20\n",
            "6/6 [==============================] - 0s 11ms/step - loss: 1.5499 - accuracy: 0.3008\n",
            "19/19 [==============================] - 0s 2ms/step - loss: 1.5475 - accuracy: 0.3255\n"
          ],
          "name": "stdout"
        }
      ]
    },
    {
      "cell_type": "code",
      "metadata": {
        "colab": {
          "base_uri": "https://localhost:8080/"
        },
        "id": "nLC_DvyrHwt_",
        "outputId": "49baafa0-171a-4c4d-9d02-735aa04661b0"
      },
      "source": [
        "results"
      ],
      "execution_count": null,
      "outputs": [
        {
          "output_type": "execute_result",
          "data": {
            "text/plain": [
              "[1.5474656820297241, 0.32546374201774597]"
            ]
          },
          "metadata": {
            "tags": []
          },
          "execution_count": 64
        }
      ]
    },
    {
      "cell_type": "markdown",
      "metadata": {
        "id": "yCb-GYsltF4m"
      },
      "source": [
        "## **Predict**"
      ]
    },
    {
      "cell_type": "code",
      "metadata": {
        "colab": {
          "base_uri": "https://localhost:8080/"
        },
        "id": "6lTyqkSuH1ri",
        "outputId": "27fd8bc4-db5d-4a4e-8d40-7a9155bf5fe9"
      },
      "source": [
        "model.predict(test_data)"
      ],
      "execution_count": null,
      "outputs": [
        {
          "output_type": "execute_result",
          "data": {
            "text/plain": [
              "array([[0.10152198, 0.1662219 , 0.15771732, 0.25329837, 0.32124043],\n",
              "       [0.14850257, 0.20747419, 0.17440471, 0.20852038, 0.26109815],\n",
              "       [0.21739352, 0.26247412, 0.17615698, 0.15278414, 0.19119124],\n",
              "       ...,\n",
              "       [0.20835546, 0.25071162, 0.1798814 , 0.15962674, 0.20142472],\n",
              "       [0.23947296, 0.2930335 , 0.16182387, 0.13374777, 0.17192188],\n",
              "       [0.22850677, 0.26171097, 0.17879225, 0.14812557, 0.18286438]],\n",
              "      dtype=float32)"
            ]
          },
          "metadata": {
            "tags": []
          },
          "execution_count": 65
        }
      ]
    }
  ]
}